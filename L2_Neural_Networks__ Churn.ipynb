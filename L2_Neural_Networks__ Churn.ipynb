{
 "cells": [
  {
   "cell_type": "markdown",
   "id": "0bd802b8",
   "metadata": {},
   "source": [
    "# Análise de Churn com TensorFlow\n",
    "\n",
    "Este Notebook foi criado para analisar o dataset Churn.csv do curso ONE-G8 da Alura/Oracle, utilizando uma abordagem diferente do curso, criando um modelo de Neural Network com TensorFlow/Keras."
   ]
  },
  {
   "cell_type": "code",
   "execution_count": 34,
   "id": "77e8b9c6",
   "metadata": {},
   "outputs": [],
   "source": [
    "import numpy as np\n",
    "import pandas as pd\n",
    "import warnings\n",
    "\n",
    "warnings.filterwarnings('ignore')\n"
   ]
  },
  {
   "cell_type": "code",
   "execution_count": 35,
   "id": "db3621e3",
   "metadata": {},
   "outputs": [],
   "source": [
    "url = 'https://raw.githubusercontent.com/mauricioaalmeida/ONE-ML/refs/heads/main/data/churn.csv'\n",
    "df = pd.read_csv(url)"
   ]
  },
  {
   "cell_type": "code",
   "execution_count": 36,
   "id": "993fe88c",
   "metadata": {},
   "outputs": [
    {
     "data": {
      "text/html": [
       "<div>\n",
       "<style scoped>\n",
       "    .dataframe tbody tr th:only-of-type {\n",
       "        vertical-align: middle;\n",
       "    }\n",
       "\n",
       "    .dataframe tbody tr th {\n",
       "        vertical-align: top;\n",
       "    }\n",
       "\n",
       "    .dataframe thead th {\n",
       "        text-align: right;\n",
       "    }\n",
       "</style>\n",
       "<table border=\"1\" class=\"dataframe\">\n",
       "  <thead>\n",
       "    <tr style=\"text-align: right;\">\n",
       "      <th></th>\n",
       "      <th>id_cliente</th>\n",
       "      <th>score_credito</th>\n",
       "      <th>pais</th>\n",
       "      <th>sexo_biologico</th>\n",
       "      <th>idade</th>\n",
       "      <th>anos_de_cliente</th>\n",
       "      <th>saldo</th>\n",
       "      <th>servicos_adquiridos</th>\n",
       "      <th>tem_cartao_credito</th>\n",
       "      <th>membro_ativo</th>\n",
       "      <th>salario_estimado</th>\n",
       "      <th>churn</th>\n",
       "    </tr>\n",
       "  </thead>\n",
       "  <tbody>\n",
       "    <tr>\n",
       "      <th>0</th>\n",
       "      <td>15634602</td>\n",
       "      <td>619</td>\n",
       "      <td>França</td>\n",
       "      <td>Mulher</td>\n",
       "      <td>42</td>\n",
       "      <td>2</td>\n",
       "      <td>0.00</td>\n",
       "      <td>1</td>\n",
       "      <td>1</td>\n",
       "      <td>1</td>\n",
       "      <td>101348.88</td>\n",
       "      <td>1</td>\n",
       "    </tr>\n",
       "    <tr>\n",
       "      <th>1</th>\n",
       "      <td>15647311</td>\n",
       "      <td>608</td>\n",
       "      <td>Espanha</td>\n",
       "      <td>Mulher</td>\n",
       "      <td>41</td>\n",
       "      <td>1</td>\n",
       "      <td>83807.86</td>\n",
       "      <td>1</td>\n",
       "      <td>0</td>\n",
       "      <td>1</td>\n",
       "      <td>112542.58</td>\n",
       "      <td>0</td>\n",
       "    </tr>\n",
       "    <tr>\n",
       "      <th>2</th>\n",
       "      <td>15619304</td>\n",
       "      <td>502</td>\n",
       "      <td>França</td>\n",
       "      <td>Mulher</td>\n",
       "      <td>42</td>\n",
       "      <td>8</td>\n",
       "      <td>159660.80</td>\n",
       "      <td>3</td>\n",
       "      <td>1</td>\n",
       "      <td>0</td>\n",
       "      <td>113931.57</td>\n",
       "      <td>1</td>\n",
       "    </tr>\n",
       "    <tr>\n",
       "      <th>3</th>\n",
       "      <td>15701354</td>\n",
       "      <td>699</td>\n",
       "      <td>França</td>\n",
       "      <td>Mulher</td>\n",
       "      <td>39</td>\n",
       "      <td>1</td>\n",
       "      <td>0.00</td>\n",
       "      <td>2</td>\n",
       "      <td>0</td>\n",
       "      <td>0</td>\n",
       "      <td>93826.63</td>\n",
       "      <td>0</td>\n",
       "    </tr>\n",
       "    <tr>\n",
       "      <th>4</th>\n",
       "      <td>15737888</td>\n",
       "      <td>850</td>\n",
       "      <td>Espanha</td>\n",
       "      <td>Mulher</td>\n",
       "      <td>43</td>\n",
       "      <td>2</td>\n",
       "      <td>125510.82</td>\n",
       "      <td>1</td>\n",
       "      <td>1</td>\n",
       "      <td>1</td>\n",
       "      <td>79084.10</td>\n",
       "      <td>0</td>\n",
       "    </tr>\n",
       "  </tbody>\n",
       "</table>\n",
       "</div>"
      ],
      "text/plain": [
       "   id_cliente  score_credito     pais sexo_biologico  idade  anos_de_cliente  \\\n",
       "0    15634602            619   França         Mulher     42                2   \n",
       "1    15647311            608  Espanha         Mulher     41                1   \n",
       "2    15619304            502   França         Mulher     42                8   \n",
       "3    15701354            699   França         Mulher     39                1   \n",
       "4    15737888            850  Espanha         Mulher     43                2   \n",
       "\n",
       "       saldo  servicos_adquiridos  tem_cartao_credito  membro_ativo  \\\n",
       "0       0.00                    1                   1             1   \n",
       "1   83807.86                    1                   0             1   \n",
       "2  159660.80                    3                   1             0   \n",
       "3       0.00                    2                   0             0   \n",
       "4  125510.82                    1                   1             1   \n",
       "\n",
       "   salario_estimado  churn  \n",
       "0         101348.88      1  \n",
       "1         112542.58      0  \n",
       "2         113931.57      1  \n",
       "3          93826.63      0  \n",
       "4          79084.10      0  "
      ]
     },
     "execution_count": 36,
     "metadata": {},
     "output_type": "execute_result"
    }
   ],
   "source": [
    "df.head()"
   ]
  },
  {
   "cell_type": "markdown",
   "id": "328af75e",
   "metadata": {},
   "source": [
    "# Limpando os dados"
   ]
  },
  {
   "cell_type": "code",
   "execution_count": 37,
   "id": "b9c7876a",
   "metadata": {},
   "outputs": [],
   "source": [
    "x = df.drop(['churn', 'id_cliente'], axis=1)\n",
    "y = df['churn']\n",
    "     "
   ]
  },
  {
   "cell_type": "code",
   "execution_count": 38,
   "id": "db8f6c7a",
   "metadata": {},
   "outputs": [
    {
     "name": "stdout",
     "output_type": "stream",
     "text": [
      "Categóricas: ['pais', 'sexo_biologico']\n",
      "Numéricas: ['score_credito', 'idade', 'anos_de_cliente', 'saldo', 'servicos_adquiridos', 'tem_cartao_credito', 'membro_ativo', 'salario_estimado']\n"
     ]
    }
   ],
   "source": [
    "\n",
    "colunas = x.columns.tolist()\n",
    "col_categoricas = x.select_dtypes(include=['object']).columns.tolist()\n",
    "col_numericas = x.select_dtypes(include=['number']).columns.tolist()\n",
    "print(f'Categóricas: {col_categoricas}')\n",
    "print(f'Numéricas: {col_numericas}')"
   ]
  },
  {
   "cell_type": "code",
   "execution_count": 39,
   "id": "e4deaa99",
   "metadata": {},
   "outputs": [],
   "source": [
    "col_categoricas = ['pais', 'sexo_biologico', 'servicos_adquiridos', 'tem_cartao_credito', 'membro_ativo']\n",
    "col_numericas = ['score_credito', 'idade', 'anos_de_cliente', 'saldo', 'salario_estimado']"
   ]
  },
  {
   "cell_type": "code",
   "execution_count": 40,
   "id": "a372b937",
   "metadata": {},
   "outputs": [
    {
     "data": {
      "text/plain": [
       "array(['onehotencoder__pais_Alemanha', 'onehotencoder__pais_Espanha',\n",
       "       'onehotencoder__pais_França',\n",
       "       'onehotencoder__sexo_biologico_Mulher',\n",
       "       'onehotencoder__servicos_adquiridos_1',\n",
       "       'onehotencoder__servicos_adquiridos_2',\n",
       "       'onehotencoder__servicos_adquiridos_3',\n",
       "       'onehotencoder__servicos_adquiridos_4',\n",
       "       'onehotencoder__tem_cartao_credito_1',\n",
       "       'onehotencoder__membro_ativo_1', 'remainder__score_credito',\n",
       "       'remainder__idade', 'remainder__anos_de_cliente',\n",
       "       'remainder__saldo', 'remainder__salario_estimado'], dtype=object)"
      ]
     },
     "execution_count": 40,
     "metadata": {},
     "output_type": "execute_result"
    }
   ],
   "source": [
    "from sklearn.preprocessing import OneHotEncoder, MinMaxScaler\n",
    "from sklearn.compose import make_column_transformer\n",
    "colunas = x.columns\n",
    "one_hot = make_column_transformer((\n",
    "    OneHotEncoder( drop = 'if_binary'),\n",
    "    col_categoricas\n",
    "),\n",
    "    remainder='passthrough',\n",
    "    sparse_threshold=0)\n",
    "\n",
    "     \n",
    "\n",
    "X = one_hot.fit_transform(x)\n",
    "     \n",
    "\n",
    "one_hot.get_feature_names_out()\n",
    "     \n"
   ]
  },
  {
   "cell_type": "code",
   "execution_count": 41,
   "id": "52d9c2ea",
   "metadata": {},
   "outputs": [
    {
     "data": {
      "text/plain": [
       "array([1, 0, 1, ..., 1, 1, 0])"
      ]
     },
     "execution_count": 41,
     "metadata": {},
     "output_type": "execute_result"
    }
   ],
   "source": [
    "from sklearn.preprocessing import LabelEncoder\n",
    "label_encoder = LabelEncoder()\n",
    "y = label_encoder.fit_transform(y)\n",
    "y"
   ]
  },
  {
   "cell_type": "markdown",
   "id": "37f5ba0a",
   "metadata": {},
   "source": [
    "# Preparação do dataset Test e Train"
   ]
  },
  {
   "cell_type": "code",
   "execution_count": 42,
   "id": "a04af8c8",
   "metadata": {},
   "outputs": [],
   "source": [
    "from sklearn.model_selection import train_test_split\n",
    "\n",
    "X_train, X_test, y_train, y_test = train_test_split(X,y, test_size=0.2, random_state=42)"
   ]
  },
  {
   "cell_type": "markdown",
   "id": "7bc49080",
   "metadata": {},
   "source": [
    "# Normalização"
   ]
  },
  {
   "cell_type": "code",
   "execution_count": 43,
   "id": "11d01884",
   "metadata": {},
   "outputs": [
    {
     "data": {
      "text/html": [
       "<div>\n",
       "<style scoped>\n",
       "    .dataframe tbody tr th:only-of-type {\n",
       "        vertical-align: middle;\n",
       "    }\n",
       "\n",
       "    .dataframe tbody tr th {\n",
       "        vertical-align: top;\n",
       "    }\n",
       "\n",
       "    .dataframe thead th {\n",
       "        text-align: right;\n",
       "    }\n",
       "</style>\n",
       "<table border=\"1\" class=\"dataframe\">\n",
       "  <thead>\n",
       "    <tr style=\"text-align: right;\">\n",
       "      <th></th>\n",
       "      <th>onehotencoder__pais_Alemanha</th>\n",
       "      <th>onehotencoder__pais_Espanha</th>\n",
       "      <th>onehotencoder__pais_França</th>\n",
       "      <th>onehotencoder__sexo_biologico_Mulher</th>\n",
       "      <th>onehotencoder__servicos_adquiridos_1</th>\n",
       "      <th>onehotencoder__servicos_adquiridos_2</th>\n",
       "      <th>onehotencoder__servicos_adquiridos_3</th>\n",
       "      <th>onehotencoder__servicos_adquiridos_4</th>\n",
       "      <th>onehotencoder__tem_cartao_credito_1</th>\n",
       "      <th>onehotencoder__membro_ativo_1</th>\n",
       "      <th>remainder__score_credito</th>\n",
       "      <th>remainder__idade</th>\n",
       "      <th>remainder__anos_de_cliente</th>\n",
       "      <th>remainder__saldo</th>\n",
       "      <th>remainder__salario_estimado</th>\n",
       "    </tr>\n",
       "  </thead>\n",
       "  <tbody>\n",
       "    <tr>\n",
       "      <th>0</th>\n",
       "      <td>0.0</td>\n",
       "      <td>0.0</td>\n",
       "      <td>1.0</td>\n",
       "      <td>0.0</td>\n",
       "      <td>0.0</td>\n",
       "      <td>1.0</td>\n",
       "      <td>0.0</td>\n",
       "      <td>0.0</td>\n",
       "      <td>1.0</td>\n",
       "      <td>1.0</td>\n",
       "      <td>0.672</td>\n",
       "      <td>0.189189</td>\n",
       "      <td>0.6</td>\n",
       "      <td>0.000000</td>\n",
       "      <td>0.895550</td>\n",
       "    </tr>\n",
       "    <tr>\n",
       "      <th>1</th>\n",
       "      <td>1.0</td>\n",
       "      <td>0.0</td>\n",
       "      <td>0.0</td>\n",
       "      <td>0.0</td>\n",
       "      <td>0.0</td>\n",
       "      <td>1.0</td>\n",
       "      <td>0.0</td>\n",
       "      <td>0.0</td>\n",
       "      <td>1.0</td>\n",
       "      <td>1.0</td>\n",
       "      <td>0.564</td>\n",
       "      <td>0.324324</td>\n",
       "      <td>0.4</td>\n",
       "      <td>0.476786</td>\n",
       "      <td>0.980029</td>\n",
       "    </tr>\n",
       "    <tr>\n",
       "      <th>2</th>\n",
       "      <td>0.0</td>\n",
       "      <td>1.0</td>\n",
       "      <td>0.0</td>\n",
       "      <td>0.0</td>\n",
       "      <td>1.0</td>\n",
       "      <td>0.0</td>\n",
       "      <td>0.0</td>\n",
       "      <td>0.0</td>\n",
       "      <td>1.0</td>\n",
       "      <td>0.0</td>\n",
       "      <td>0.418</td>\n",
       "      <td>0.081081</td>\n",
       "      <td>0.3</td>\n",
       "      <td>0.457317</td>\n",
       "      <td>0.429261</td>\n",
       "    </tr>\n",
       "    <tr>\n",
       "      <th>3</th>\n",
       "      <td>0.0</td>\n",
       "      <td>0.0</td>\n",
       "      <td>1.0</td>\n",
       "      <td>1.0</td>\n",
       "      <td>1.0</td>\n",
       "      <td>0.0</td>\n",
       "      <td>0.0</td>\n",
       "      <td>0.0</td>\n",
       "      <td>1.0</td>\n",
       "      <td>0.0</td>\n",
       "      <td>0.422</td>\n",
       "      <td>0.121622</td>\n",
       "      <td>0.9</td>\n",
       "      <td>0.540606</td>\n",
       "      <td>0.765408</td>\n",
       "    </tr>\n",
       "    <tr>\n",
       "      <th>4</th>\n",
       "      <td>0.0</td>\n",
       "      <td>0.0</td>\n",
       "      <td>1.0</td>\n",
       "      <td>0.0</td>\n",
       "      <td>1.0</td>\n",
       "      <td>0.0</td>\n",
       "      <td>0.0</td>\n",
       "      <td>0.0</td>\n",
       "      <td>0.0</td>\n",
       "      <td>0.0</td>\n",
       "      <td>0.334</td>\n",
       "      <td>0.513514</td>\n",
       "      <td>0.9</td>\n",
       "      <td>0.566554</td>\n",
       "      <td>0.197107</td>\n",
       "    </tr>\n",
       "    <tr>\n",
       "      <th>...</th>\n",
       "      <td>...</td>\n",
       "      <td>...</td>\n",
       "      <td>...</td>\n",
       "      <td>...</td>\n",
       "      <td>...</td>\n",
       "      <td>...</td>\n",
       "      <td>...</td>\n",
       "      <td>...</td>\n",
       "      <td>...</td>\n",
       "      <td>...</td>\n",
       "      <td>...</td>\n",
       "      <td>...</td>\n",
       "      <td>...</td>\n",
       "      <td>...</td>\n",
       "      <td>...</td>\n",
       "    </tr>\n",
       "    <tr>\n",
       "      <th>7995</th>\n",
       "      <td>0.0</td>\n",
       "      <td>0.0</td>\n",
       "      <td>1.0</td>\n",
       "      <td>0.0</td>\n",
       "      <td>1.0</td>\n",
       "      <td>0.0</td>\n",
       "      <td>0.0</td>\n",
       "      <td>0.0</td>\n",
       "      <td>1.0</td>\n",
       "      <td>1.0</td>\n",
       "      <td>0.836</td>\n",
       "      <td>0.486486</td>\n",
       "      <td>0.8</td>\n",
       "      <td>0.277853</td>\n",
       "      <td>0.346662</td>\n",
       "    </tr>\n",
       "    <tr>\n",
       "      <th>7996</th>\n",
       "      <td>0.0</td>\n",
       "      <td>0.0</td>\n",
       "      <td>1.0</td>\n",
       "      <td>1.0</td>\n",
       "      <td>1.0</td>\n",
       "      <td>0.0</td>\n",
       "      <td>0.0</td>\n",
       "      <td>0.0</td>\n",
       "      <td>1.0</td>\n",
       "      <td>1.0</td>\n",
       "      <td>0.664</td>\n",
       "      <td>0.540541</td>\n",
       "      <td>0.1</td>\n",
       "      <td>0.000000</td>\n",
       "      <td>0.003084</td>\n",
       "    </tr>\n",
       "    <tr>\n",
       "      <th>7997</th>\n",
       "      <td>0.0</td>\n",
       "      <td>0.0</td>\n",
       "      <td>1.0</td>\n",
       "      <td>1.0</td>\n",
       "      <td>0.0</td>\n",
       "      <td>0.0</td>\n",
       "      <td>1.0</td>\n",
       "      <td>0.0</td>\n",
       "      <td>0.0</td>\n",
       "      <td>0.0</td>\n",
       "      <td>0.770</td>\n",
       "      <td>0.270270</td>\n",
       "      <td>0.1</td>\n",
       "      <td>0.000000</td>\n",
       "      <td>0.460925</td>\n",
       "    </tr>\n",
       "    <tr>\n",
       "      <th>7998</th>\n",
       "      <td>0.0</td>\n",
       "      <td>0.0</td>\n",
       "      <td>1.0</td>\n",
       "      <td>0.0</td>\n",
       "      <td>1.0</td>\n",
       "      <td>0.0</td>\n",
       "      <td>0.0</td>\n",
       "      <td>0.0</td>\n",
       "      <td>1.0</td>\n",
       "      <td>0.0</td>\n",
       "      <td>0.634</td>\n",
       "      <td>0.337838</td>\n",
       "      <td>0.8</td>\n",
       "      <td>0.758186</td>\n",
       "      <td>0.487381</td>\n",
       "    </tr>\n",
       "    <tr>\n",
       "      <th>7999</th>\n",
       "      <td>1.0</td>\n",
       "      <td>0.0</td>\n",
       "      <td>0.0</td>\n",
       "      <td>0.0</td>\n",
       "      <td>1.0</td>\n",
       "      <td>0.0</td>\n",
       "      <td>0.0</td>\n",
       "      <td>0.0</td>\n",
       "      <td>1.0</td>\n",
       "      <td>1.0</td>\n",
       "      <td>0.694</td>\n",
       "      <td>0.445946</td>\n",
       "      <td>0.1</td>\n",
       "      <td>0.589523</td>\n",
       "      <td>0.267615</td>\n",
       "    </tr>\n",
       "  </tbody>\n",
       "</table>\n",
       "<p>8000 rows × 15 columns</p>\n",
       "</div>"
      ],
      "text/plain": [
       "      onehotencoder__pais_Alemanha  onehotencoder__pais_Espanha  \\\n",
       "0                              0.0                          0.0   \n",
       "1                              1.0                          0.0   \n",
       "2                              0.0                          1.0   \n",
       "3                              0.0                          0.0   \n",
       "4                              0.0                          0.0   \n",
       "...                            ...                          ...   \n",
       "7995                           0.0                          0.0   \n",
       "7996                           0.0                          0.0   \n",
       "7997                           0.0                          0.0   \n",
       "7998                           0.0                          0.0   \n",
       "7999                           1.0                          0.0   \n",
       "\n",
       "      onehotencoder__pais_França  onehotencoder__sexo_biologico_Mulher  \\\n",
       "0                            1.0                                   0.0   \n",
       "1                            0.0                                   0.0   \n",
       "2                            0.0                                   0.0   \n",
       "3                            1.0                                   1.0   \n",
       "4                            1.0                                   0.0   \n",
       "...                          ...                                   ...   \n",
       "7995                         1.0                                   0.0   \n",
       "7996                         1.0                                   1.0   \n",
       "7997                         1.0                                   1.0   \n",
       "7998                         1.0                                   0.0   \n",
       "7999                         0.0                                   0.0   \n",
       "\n",
       "      onehotencoder__servicos_adquiridos_1  \\\n",
       "0                                      0.0   \n",
       "1                                      0.0   \n",
       "2                                      1.0   \n",
       "3                                      1.0   \n",
       "4                                      1.0   \n",
       "...                                    ...   \n",
       "7995                                   1.0   \n",
       "7996                                   1.0   \n",
       "7997                                   0.0   \n",
       "7998                                   1.0   \n",
       "7999                                   1.0   \n",
       "\n",
       "      onehotencoder__servicos_adquiridos_2  \\\n",
       "0                                      1.0   \n",
       "1                                      1.0   \n",
       "2                                      0.0   \n",
       "3                                      0.0   \n",
       "4                                      0.0   \n",
       "...                                    ...   \n",
       "7995                                   0.0   \n",
       "7996                                   0.0   \n",
       "7997                                   0.0   \n",
       "7998                                   0.0   \n",
       "7999                                   0.0   \n",
       "\n",
       "      onehotencoder__servicos_adquiridos_3  \\\n",
       "0                                      0.0   \n",
       "1                                      0.0   \n",
       "2                                      0.0   \n",
       "3                                      0.0   \n",
       "4                                      0.0   \n",
       "...                                    ...   \n",
       "7995                                   0.0   \n",
       "7996                                   0.0   \n",
       "7997                                   1.0   \n",
       "7998                                   0.0   \n",
       "7999                                   0.0   \n",
       "\n",
       "      onehotencoder__servicos_adquiridos_4  \\\n",
       "0                                      0.0   \n",
       "1                                      0.0   \n",
       "2                                      0.0   \n",
       "3                                      0.0   \n",
       "4                                      0.0   \n",
       "...                                    ...   \n",
       "7995                                   0.0   \n",
       "7996                                   0.0   \n",
       "7997                                   0.0   \n",
       "7998                                   0.0   \n",
       "7999                                   0.0   \n",
       "\n",
       "      onehotencoder__tem_cartao_credito_1  onehotencoder__membro_ativo_1  \\\n",
       "0                                     1.0                            1.0   \n",
       "1                                     1.0                            1.0   \n",
       "2                                     1.0                            0.0   \n",
       "3                                     1.0                            0.0   \n",
       "4                                     0.0                            0.0   \n",
       "...                                   ...                            ...   \n",
       "7995                                  1.0                            1.0   \n",
       "7996                                  1.0                            1.0   \n",
       "7997                                  0.0                            0.0   \n",
       "7998                                  1.0                            0.0   \n",
       "7999                                  1.0                            1.0   \n",
       "\n",
       "      remainder__score_credito  remainder__idade  remainder__anos_de_cliente  \\\n",
       "0                        0.672          0.189189                         0.6   \n",
       "1                        0.564          0.324324                         0.4   \n",
       "2                        0.418          0.081081                         0.3   \n",
       "3                        0.422          0.121622                         0.9   \n",
       "4                        0.334          0.513514                         0.9   \n",
       "...                        ...               ...                         ...   \n",
       "7995                     0.836          0.486486                         0.8   \n",
       "7996                     0.664          0.540541                         0.1   \n",
       "7997                     0.770          0.270270                         0.1   \n",
       "7998                     0.634          0.337838                         0.8   \n",
       "7999                     0.694          0.445946                         0.1   \n",
       "\n",
       "      remainder__saldo  remainder__salario_estimado  \n",
       "0             0.000000                     0.895550  \n",
       "1             0.476786                     0.980029  \n",
       "2             0.457317                     0.429261  \n",
       "3             0.540606                     0.765408  \n",
       "4             0.566554                     0.197107  \n",
       "...                ...                          ...  \n",
       "7995          0.277853                     0.346662  \n",
       "7996          0.000000                     0.003084  \n",
       "7997          0.000000                     0.460925  \n",
       "7998          0.758186                     0.487381  \n",
       "7999          0.589523                     0.267615  \n",
       "\n",
       "[8000 rows x 15 columns]"
      ]
     },
     "execution_count": 43,
     "metadata": {},
     "output_type": "execute_result"
    }
   ],
   "source": [
    "normalizacao = MinMaxScaler()\n",
    "X_train = normalizacao.fit_transform(X_train)\n",
    "X_test = normalizacao.transform(X_test)\n",
    "pd.DataFrame(X_train, columns=one_hot.get_feature_names_out())"
   ]
  },
  {
   "cell_type": "markdown",
   "id": "8c96d93c",
   "metadata": {},
   "source": [
    "# Construindo e treinando o modelo"
   ]
  },
  {
   "cell_type": "code",
   "execution_count": 44,
   "id": "d338bdde",
   "metadata": {},
   "outputs": [
    {
     "data": {
      "text/html": [
       "<pre style=\"white-space:pre;overflow-x:auto;line-height:normal;font-family:Menlo,'DejaVu Sans Mono',consolas,'Courier New',monospace\"><span style=\"font-weight: bold\">Model: \"sequential_2\"</span>\n",
       "</pre>\n"
      ],
      "text/plain": [
       "\u001b[1mModel: \"sequential_2\"\u001b[0m\n"
      ]
     },
     "metadata": {},
     "output_type": "display_data"
    },
    {
     "data": {
      "text/html": [
       "<pre style=\"white-space:pre;overflow-x:auto;line-height:normal;font-family:Menlo,'DejaVu Sans Mono',consolas,'Courier New',monospace\">┏━━━━━━━━━━━━━━━━━━━━━━━━━━━━━━━━━┳━━━━━━━━━━━━━━━━━━━━━━━━┳━━━━━━━━━━━━━━━┓\n",
       "┃<span style=\"font-weight: bold\"> Layer (type)                    </span>┃<span style=\"font-weight: bold\"> Output Shape           </span>┃<span style=\"font-weight: bold\">       Param # </span>┃\n",
       "┡━━━━━━━━━━━━━━━━━━━━━━━━━━━━━━━━━╇━━━━━━━━━━━━━━━━━━━━━━━━╇━━━━━━━━━━━━━━━┩\n",
       "│ dense_4 (<span style=\"color: #0087ff; text-decoration-color: #0087ff\">Dense</span>)                 │ (<span style=\"color: #00d7ff; text-decoration-color: #00d7ff\">None</span>, <span style=\"color: #00af00; text-decoration-color: #00af00\">15</span>)             │           <span style=\"color: #00af00; text-decoration-color: #00af00\">240</span> │\n",
       "├─────────────────────────────────┼────────────────────────┼───────────────┤\n",
       "│ dense_5 (<span style=\"color: #0087ff; text-decoration-color: #0087ff\">Dense</span>)                 │ (<span style=\"color: #00d7ff; text-decoration-color: #00d7ff\">None</span>, <span style=\"color: #00af00; text-decoration-color: #00af00\">1</span>)              │            <span style=\"color: #00af00; text-decoration-color: #00af00\">16</span> │\n",
       "└─────────────────────────────────┴────────────────────────┴───────────────┘\n",
       "</pre>\n"
      ],
      "text/plain": [
       "┏━━━━━━━━━━━━━━━━━━━━━━━━━━━━━━━━━┳━━━━━━━━━━━━━━━━━━━━━━━━┳━━━━━━━━━━━━━━━┓\n",
       "┃\u001b[1m \u001b[0m\u001b[1mLayer (type)                   \u001b[0m\u001b[1m \u001b[0m┃\u001b[1m \u001b[0m\u001b[1mOutput Shape          \u001b[0m\u001b[1m \u001b[0m┃\u001b[1m \u001b[0m\u001b[1m      Param #\u001b[0m\u001b[1m \u001b[0m┃\n",
       "┡━━━━━━━━━━━━━━━━━━━━━━━━━━━━━━━━━╇━━━━━━━━━━━━━━━━━━━━━━━━╇━━━━━━━━━━━━━━━┩\n",
       "│ dense_4 (\u001b[38;5;33mDense\u001b[0m)                 │ (\u001b[38;5;45mNone\u001b[0m, \u001b[38;5;34m15\u001b[0m)             │           \u001b[38;5;34m240\u001b[0m │\n",
       "├─────────────────────────────────┼────────────────────────┼───────────────┤\n",
       "│ dense_5 (\u001b[38;5;33mDense\u001b[0m)                 │ (\u001b[38;5;45mNone\u001b[0m, \u001b[38;5;34m1\u001b[0m)              │            \u001b[38;5;34m16\u001b[0m │\n",
       "└─────────────────────────────────┴────────────────────────┴───────────────┘\n"
      ]
     },
     "metadata": {},
     "output_type": "display_data"
    },
    {
     "data": {
      "text/html": [
       "<pre style=\"white-space:pre;overflow-x:auto;line-height:normal;font-family:Menlo,'DejaVu Sans Mono',consolas,'Courier New',monospace\"><span style=\"font-weight: bold\"> Total params: </span><span style=\"color: #00af00; text-decoration-color: #00af00\">256</span> (1.00 KB)\n",
       "</pre>\n"
      ],
      "text/plain": [
       "\u001b[1m Total params: \u001b[0m\u001b[38;5;34m256\u001b[0m (1.00 KB)\n"
      ]
     },
     "metadata": {},
     "output_type": "display_data"
    },
    {
     "data": {
      "text/html": [
       "<pre style=\"white-space:pre;overflow-x:auto;line-height:normal;font-family:Menlo,'DejaVu Sans Mono',consolas,'Courier New',monospace\"><span style=\"font-weight: bold\"> Trainable params: </span><span style=\"color: #00af00; text-decoration-color: #00af00\">256</span> (1.00 KB)\n",
       "</pre>\n"
      ],
      "text/plain": [
       "\u001b[1m Trainable params: \u001b[0m\u001b[38;5;34m256\u001b[0m (1.00 KB)\n"
      ]
     },
     "metadata": {},
     "output_type": "display_data"
    },
    {
     "data": {
      "text/html": [
       "<pre style=\"white-space:pre;overflow-x:auto;line-height:normal;font-family:Menlo,'DejaVu Sans Mono',consolas,'Courier New',monospace\"><span style=\"font-weight: bold\"> Non-trainable params: </span><span style=\"color: #00af00; text-decoration-color: #00af00\">0</span> (0.00 B)\n",
       "</pre>\n"
      ],
      "text/plain": [
       "\u001b[1m Non-trainable params: \u001b[0m\u001b[38;5;34m0\u001b[0m (0.00 B)\n"
      ]
     },
     "metadata": {},
     "output_type": "display_data"
    }
   ],
   "source": [
    "from tensorflow.keras.models import Sequential\n",
    "from tensorflow.keras.layers import Dense\n",
    "\n",
    "model = Sequential([\n",
    "    Dense(15, activation='relu', input_shape=(15,)), \n",
    "    #Dense(15, activation='relu'),\n",
    "    Dense(1, activation='sigmoid')  # Output layer with sigmoid activation for binary classification\n",
    "])\n",
    "\n",
    "model.compile(optimizer='adam', loss='binary_crossentropy', metrics=['accuracy'])\n",
    "model.summary()\n",
    "#model.fit(X_train, y_train, epochs=20, batch_size=10)"
   ]
  },
  {
   "cell_type": "markdown",
   "id": "bfae8d58",
   "metadata": {},
   "source": [
    "# Realizando o Treinamento e Avaliação do Modelo"
   ]
  },
  {
   "cell_type": "code",
   "execution_count": 45,
   "id": "a7a895af",
   "metadata": {},
   "outputs": [
    {
     "name": "stdout",
     "output_type": "stream",
     "text": [
      "Epoch 1/20\n",
      "\u001b[1m640/640\u001b[0m \u001b[32m━━━━━━━━━━━━━━━━━━━━\u001b[0m\u001b[37m\u001b[0m \u001b[1m1s\u001b[0m 1ms/step - accuracy: 0.7869 - loss: 0.4647 - val_accuracy: 0.8087 - val_loss: 0.4180\n",
      "Epoch 2/20\n",
      "\u001b[1m640/640\u001b[0m \u001b[32m━━━━━━━━━━━━━━━━━━━━\u001b[0m\u001b[37m\u001b[0m \u001b[1m1s\u001b[0m 1ms/step - accuracy: 0.8188 - loss: 0.4102 - val_accuracy: 0.8331 - val_loss: 0.3937\n",
      "Epoch 3/20\n",
      "\u001b[1m640/640\u001b[0m \u001b[32m━━━━━━━━━━━━━━━━━━━━\u001b[0m\u001b[37m\u001b[0m \u001b[1m1s\u001b[0m 1ms/step - accuracy: 0.8347 - loss: 0.3933 - val_accuracy: 0.8344 - val_loss: 0.3824\n",
      "Epoch 4/20\n",
      "\u001b[1m640/640\u001b[0m \u001b[32m━━━━━━━━━━━━━━━━━━━━\u001b[0m\u001b[37m\u001b[0m \u001b[1m1s\u001b[0m 1ms/step - accuracy: 0.8392 - loss: 0.3854 - val_accuracy: 0.8431 - val_loss: 0.3763\n",
      "Epoch 5/20\n",
      "\u001b[1m640/640\u001b[0m \u001b[32m━━━━━━━━━━━━━━━━━━━━\u001b[0m\u001b[37m\u001b[0m \u001b[1m1s\u001b[0m 1ms/step - accuracy: 0.8388 - loss: 0.3809 - val_accuracy: 0.8450 - val_loss: 0.3727\n",
      "Epoch 6/20\n",
      "\u001b[1m640/640\u001b[0m \u001b[32m━━━━━━━━━━━━━━━━━━━━\u001b[0m\u001b[37m\u001b[0m \u001b[1m1s\u001b[0m 1ms/step - accuracy: 0.8430 - loss: 0.3780 - val_accuracy: 0.8481 - val_loss: 0.3712\n",
      "Epoch 7/20\n",
      "\u001b[1m640/640\u001b[0m \u001b[32m━━━━━━━━━━━━━━━━━━━━\u001b[0m\u001b[37m\u001b[0m \u001b[1m1s\u001b[0m 1ms/step - accuracy: 0.8416 - loss: 0.3766 - val_accuracy: 0.8444 - val_loss: 0.3701\n",
      "Epoch 8/20\n",
      "\u001b[1m640/640\u001b[0m \u001b[32m━━━━━━━━━━━━━━━━━━━━\u001b[0m\u001b[37m\u001b[0m \u001b[1m1s\u001b[0m 1ms/step - accuracy: 0.8434 - loss: 0.3754 - val_accuracy: 0.8487 - val_loss: 0.3684\n",
      "Epoch 9/20\n",
      "\u001b[1m640/640\u001b[0m \u001b[32m━━━━━━━━━━━━━━━━━━━━\u001b[0m\u001b[37m\u001b[0m \u001b[1m1s\u001b[0m 1ms/step - accuracy: 0.8423 - loss: 0.3738 - val_accuracy: 0.8475 - val_loss: 0.3690\n",
      "Epoch 10/20\n",
      "\u001b[1m640/640\u001b[0m \u001b[32m━━━━━━━━━━━━━━━━━━━━\u001b[0m\u001b[37m\u001b[0m \u001b[1m1s\u001b[0m 1ms/step - accuracy: 0.8436 - loss: 0.3735 - val_accuracy: 0.8469 - val_loss: 0.3672\n",
      "Epoch 11/20\n",
      "\u001b[1m640/640\u001b[0m \u001b[32m━━━━━━━━━━━━━━━━━━━━\u001b[0m\u001b[37m\u001b[0m \u001b[1m1s\u001b[0m 1ms/step - accuracy: 0.8442 - loss: 0.3724 - val_accuracy: 0.8487 - val_loss: 0.3678\n",
      "Epoch 12/20\n",
      "\u001b[1m640/640\u001b[0m \u001b[32m━━━━━━━━━━━━━━━━━━━━\u001b[0m\u001b[37m\u001b[0m \u001b[1m1s\u001b[0m 1ms/step - accuracy: 0.8453 - loss: 0.3721 - val_accuracy: 0.8481 - val_loss: 0.3678\n",
      "Epoch 13/20\n",
      "\u001b[1m640/640\u001b[0m \u001b[32m━━━━━━━━━━━━━━━━━━━━\u001b[0m\u001b[37m\u001b[0m \u001b[1m1s\u001b[0m 1ms/step - accuracy: 0.8441 - loss: 0.3714 - val_accuracy: 0.8525 - val_loss: 0.3660\n",
      "Epoch 14/20\n",
      "\u001b[1m640/640\u001b[0m \u001b[32m━━━━━━━━━━━━━━━━━━━━\u001b[0m\u001b[37m\u001b[0m \u001b[1m1s\u001b[0m 1ms/step - accuracy: 0.8436 - loss: 0.3707 - val_accuracy: 0.8462 - val_loss: 0.3641\n",
      "Epoch 15/20\n",
      "\u001b[1m640/640\u001b[0m \u001b[32m━━━━━━━━━━━━━━━━━━━━\u001b[0m\u001b[37m\u001b[0m \u001b[1m1s\u001b[0m 1ms/step - accuracy: 0.8453 - loss: 0.3696 - val_accuracy: 0.8500 - val_loss: 0.3634\n",
      "Epoch 16/20\n",
      "\u001b[1m640/640\u001b[0m \u001b[32m━━━━━━━━━━━━━━━━━━━━\u001b[0m\u001b[37m\u001b[0m \u001b[1m1s\u001b[0m 1ms/step - accuracy: 0.8462 - loss: 0.3692 - val_accuracy: 0.8475 - val_loss: 0.3634\n",
      "Epoch 17/20\n",
      "\u001b[1m640/640\u001b[0m \u001b[32m━━━━━━━━━━━━━━━━━━━━\u001b[0m\u001b[37m\u001b[0m \u001b[1m1s\u001b[0m 1ms/step - accuracy: 0.8456 - loss: 0.3676 - val_accuracy: 0.8481 - val_loss: 0.3641\n",
      "Epoch 18/20\n",
      "\u001b[1m640/640\u001b[0m \u001b[32m━━━━━━━━━━━━━━━━━━━━\u001b[0m\u001b[37m\u001b[0m \u001b[1m1s\u001b[0m 1ms/step - accuracy: 0.8450 - loss: 0.3680 - val_accuracy: 0.8519 - val_loss: 0.3615\n",
      "Epoch 19/20\n",
      "\u001b[1m640/640\u001b[0m \u001b[32m━━━━━━━━━━━━━━━━━━━━\u001b[0m\u001b[37m\u001b[0m \u001b[1m1s\u001b[0m 1ms/step - accuracy: 0.8469 - loss: 0.3662 - val_accuracy: 0.8512 - val_loss: 0.3606\n",
      "Epoch 20/20\n",
      "\u001b[1m640/640\u001b[0m \u001b[32m━━━━━━━━━━━━━━━━━━━━\u001b[0m\u001b[37m\u001b[0m \u001b[1m1s\u001b[0m 1ms/step - accuracy: 0.8478 - loss: 0.3654 - val_accuracy: 0.8481 - val_loss: 0.3633\n"
     ]
    },
    {
     "data": {
      "image/png": "[encoded data removed]",
      "text/plain": [
       "<Figure size 1200x500 with 2 Axes>"
      ]
     },
     "metadata": {},
     "output_type": "display_data"
    }
   ],
   "source": [
    "history = model.fit(X_train, y_train, epochs=20, batch_size=10, validation_split=0.2)\n",
    "\n",
    "\n",
    "import matplotlib.pyplot as plt\n",
    "\n",
    "plt.figure(figsize=(12, 5))\n",
    "\n",
    "\n",
    "plt.subplot(1, 2, 1)\n",
    "plt.plot(history.history['accuracy'])\n",
    "plt.plot(history.history['val_accuracy'])\n",
    "plt.title('Model accuracy')\n",
    "plt.ylabel('Accuracy')\n",
    "plt.xlabel('Epoch')\n",
    "plt.legend(['Train', 'Validation'], loc='upper left')\n",
    "\n",
    "plt.subplot(1, 2, 2)\n",
    "plt.plot(history.history['loss'])\n",
    "plt.plot(history.history['val_loss'])\n",
    "plt.title('Model loss')\n",
    "plt.ylabel('Loss')\n",
    "plt.xlabel('Epoch')\n",
    "plt.legend(['Train', 'Validation'], loc='upper left')\n",
    "\n",
    "plt.show()"
   ]
  },
  {
   "cell_type": "code",
   "execution_count": 46,
   "id": "701f7990",
   "metadata": {},
   "outputs": [
    {
     "name": "stdout",
     "output_type": "stream",
     "text": [
      "\u001b[1m63/63\u001b[0m \u001b[32m━━━━━━━━━━━━━━━━━━━━\u001b[0m\u001b[37m\u001b[0m \u001b[1m0s\u001b[0m 1ms/step - accuracy: 0.8495 - loss: 0.3661  \n",
      "Test Accuracy: 0.8495000004768372\n"
     ]
    }
   ],
   "source": [
    "\n",
    "loss, accuracy = model.evaluate(X_test, y_test)\n",
    "print(f\"Test Accuracy: {accuracy}\")"
   ]
  },
  {
   "cell_type": "markdown",
   "id": "ecc0311e",
   "metadata": {},
   "source": [
    "# Testando o Modelo com novos dados"
   ]
  },
  {
   "cell_type": "code",
   "execution_count": 47,
   "id": "cad9100b",
   "metadata": {},
   "outputs": [
    {
     "name": "stdout",
     "output_type": "stream",
     "text": [
      "\u001b[1m1/1\u001b[0m \u001b[32m━━━━━━━━━━━━━━━━━━━━\u001b[0m\u001b[37m\u001b[0m \u001b[1m0s\u001b[0m 41ms/step\n",
      "Resultado para o novo dado: [[0.28616238]]\n",
      "Predição: [0]\n"
     ]
    }
   ],
   "source": [
    "novo_dado = pd.DataFrame({\n",
    "    'score_credito': [850],\n",
    "    'pais':['França'],\n",
    "    'sexo_biologico':['Homem'],\n",
    "    'idade': [57],\n",
    "    'anos_de_cliente': [3],\n",
    "    'saldo': [56000],\n",
    "    'servicos_adquiridos': [1],\n",
    "    'tem_cartao_credito': [1],\n",
    "    'membro_ativo': [1],\n",
    "    'salario_estimado': [85270.00]\n",
    "})\n",
    "\n",
    "predicao = model.predict(normalizacao.transform(one_hot.transform(novo_dado)))\n",
    "print(\"Resultado para o novo dado:\", predicao)\n",
    "predicao = label_encoder.inverse_transform((predicao > 0.5).astype(int))\n",
    "print(\"Predição:\", predicao)"
   ]
  },
  {
   "cell_type": "code",
   "execution_count": 48,
   "id": "e5742ca3",
   "metadata": {},
   "outputs": [
    {
     "name": "stdout",
     "output_type": "stream",
     "text": [
      "\u001b[1m1/1\u001b[0m \u001b[32m━━━━━━━━━━━━━━━━━━━━\u001b[0m\u001b[37m\u001b[0m \u001b[1m0s\u001b[0m 22ms/step\n",
      "Resultado para o novo dado: [[0.64934045]]\n",
      "Predição: [1]\n"
     ]
    }
   ],
   "source": [
    "novo_dado = pd.DataFrame({\n",
    "    'score_credito': [850],\n",
    "    'pais':['França'],\n",
    "    'sexo_biologico':['Homem'],\n",
    "    'idade': [57],\n",
    "    'anos_de_cliente': [3],\n",
    "    'saldo': [56000],\n",
    "    'servicos_adquiridos': [1],\n",
    "    'tem_cartao_credito': [1],\n",
    "    'membro_ativo': [0],\n",
    "    'salario_estimado': [85270.00]\n",
    "})\n",
    "\n",
    "predicao = model.predict(normalizacao.transform(one_hot.transform(novo_dado)))\n",
    "print(\"Resultado para o novo dado:\", predicao)\n",
    "predicao = label_encoder.inverse_transform((predicao > 0.5).astype(int))\n",
    "print(\"Predição:\", predicao)\n"
   ]
  }
 ],
 "metadata": {
  "kernelspec": {
   "display_name": "Udacity_AWS",
   "language": "python",
   "name": "python3"
  },
  "language_info": {
   "codemirror_mode": {
    "name": "ipython",
    "version": 3
   },
   "file_extension": ".py",
   "mimetype": "text/x-python",
   "name": "python",
   "nbconvert_exporter": "python",
   "pygments_lexer": "ipython3",
   "version": "3.12.6"
  }
 },
 "nbformat": 4,
 "nbformat_minor": 5
}
