{
  "nbformat": 4,
  "nbformat_minor": 0,
  "metadata": {
    "colab": {
      "provenance": [],
      "toc_visible": true,
      "include_colab_link": true
    },
    "kernelspec": {
      "name": "python3",
      "display_name": "Python 3"
    },
    "language_info": {
      "name": "python"
    }
  },
  "cells": [
    {
      "cell_type": "markdown",
      "metadata": {
        "id": "view-in-github",
        "colab_type": "text"
      },
      "source": [
        "<a href=\"https://colab.research.google.com/github/mauricioaalmeida/ONE-ML/blob/main/ONE_Classifica%C3%A7%C3%A3o_Valida%C3%A7%C3%A3o_m%C3%A9tricas.ipynb\" target=\"_parent\"><img src=\"https://colab.research.google.com/assets/colab-badge.svg\" alt=\"Open In Colab\"/></a>"
      ]
    },
    {
      "cell_type": "markdown",
      "source": [
        "# <font color='dark'>**Classificação: Validação de modelos e métricas de avaliação**</h1>"
      ],
      "metadata": {
        "id": "MCqTDybk4ShK"
      }
    },
    {
      "cell_type": "markdown",
      "source": [
        "### Projeto\n",
        "\n",
        "Uma empresa de empréstimo de automóveis está passando por uma situação complicada, com alta demanda para uma frota reduzida de veículos e alto número de inadimplentes, trazendo um prejuízo grande para a empresa.\n",
        "\n",
        "Nós fomos contratados para buscar melhorias na identificação de inadimplentes. A análise dos clientes atualmente é feita de forma manual, cliente por cliente, tomando muito tempo e ainda assim a detecção de inadimplentes é muito imprecisa.\n",
        "\n",
        "Nossa tarefa é utilizar os dados fornecidos pela empresa para **classificar** os clientes em adimplentes e inadimplentes."
      ],
      "metadata": {
        "id": "WscU3KG7a9No"
      }
    },
    {
      "cell_type": "code",
      "source": [
        "import numpy as np\n",
        "import pandas as pd\n",
        "import matplotlib.pyplot as plt\n",
        "import seaborn as sns\n",
        "import plotly.express as px\n",
        "\n",
        "from sklearn.preprocessing import OneHotEncoder\n",
        "from sklearn.compose import make_column_transformer\n",
        "from sklearn.preprocessing import LabelEncoder, MinMaxScaler\n",
        "from sklearn.model_selection import train_test_split, cross_validate, KFold, StratifiedKFold\n",
        "from sklearn.metrics import accuracy_score, precision_score, recall_score, f1_score, confusion_matrix, classification_report, ConfusionMatrixDisplay, RocCurveDisplay, roc_auc_score\n",
        "from sklearn.metrics import PrecisionRecallDisplay, average_precision_score, precision_recall_curve\n",
        "\n",
        "\n",
        "from sklearn.dummy import DummyClassifier\n",
        "from sklearn.tree import DecisionTreeClassifier\n",
        "from sklearn.tree import plot_tree\n",
        "from sklearn.ensemble import RandomForestClassifier\n",
        "from sklearn.neighbors import KNeighborsClassifier\n",
        "from sklearn.linear_model import LogisticRegression\n",
        "\n",
        "\n",
        "\n",
        "import pickle"
      ],
      "metadata": {
        "id": "PG6GX11icJk1"
      },
      "execution_count": 73,
      "outputs": []
    },
    {
      "cell_type": "markdown",
      "source": [
        "## <font color='dark'>Classificando dados</h1>"
      ],
      "metadata": {
        "id": "WgS8iF51Csrn"
      }
    },
    {
      "cell_type": "markdown",
      "source": [
        "### Criando um modelo inicial"
      ],
      "metadata": {
        "id": "6lExmBuKn-xe"
      }
    },
    {
      "cell_type": "code",
      "execution_count": 9,
      "metadata": {
        "id": "ZP9giPwL7Qvz"
      },
      "outputs": [],
      "source": [
        "url = 'https://raw.githubusercontent.com/mauricioaalmeida/ONE-ML/refs/heads/main/data/emp_automovel.csv'\n",
        "dados = pd.read_csv(url)"
      ]
    },
    {
      "cell_type": "code",
      "source": [
        "dados.head()"
      ],
      "metadata": {
        "id": "w1MaIGaj7UZL",
        "colab": {
          "base_uri": "https://localhost:8080/",
          "height": 206
        },
        "outputId": "4885c8b7-f8a8-40a2-b76b-9a3f1154d090"
      },
      "execution_count": 10,
      "outputs": [
        {
          "output_type": "execute_result",
          "data": {
            "text/plain": [
              "   receita_cliente  anuidade_emprestimo  anos_casa_propria  telefone_trab  \\\n",
              "0          12600.0          3569.400000          12.157324              1   \n",
              "1           9000.0          2722.188351           7.000000              0   \n",
              "2          15750.0          4477.500000          12.000000              0   \n",
              "3           9000.0          1309.050000          12.157324              0   \n",
              "4           7650.0          1125.000000          12.157324              0   \n",
              "\n",
              "   avaliacao_cidade   score_1   score_2   score_3  score_social  \\\n",
              "0               2.0  0.057153  0.527227  0.513171      0.117428   \n",
              "1               2.0  0.657661  0.285898  0.614414      0.222700   \n",
              "2               2.0  0.501213  0.695423  0.513171      0.117428   \n",
              "3               3.0  0.501213  0.155973  0.513171      0.117428   \n",
              "4               2.0  0.294328  0.152076  0.513171      0.117428   \n",
              "\n",
              "   troca_telefone  inadimplente  \n",
              "0          2545.0             0  \n",
              "1           495.0             0  \n",
              "2          1212.0             0  \n",
              "3           515.0             0  \n",
              "4           162.0             0  "
            ],
            "text/html": [
              "\n",
              "  <div id=\"df-42c7bf01-f8b6-4425-864d-291d4f357c76\" class=\"colab-df-container\">\n",
              "    <div>\n",
              "<style scoped>\n",
              "    .dataframe tbody tr th:only-of-type {\n",
              "        vertical-align: middle;\n",
              "    }\n",
              "\n",
              "    .dataframe tbody tr th {\n",
              "        vertical-align: top;\n",
              "    }\n",
              "\n",
              "    .dataframe thead th {\n",
              "        text-align: right;\n",
              "    }\n",
              "</style>\n",
              "<table border=\"1\" class=\"dataframe\">\n",
              "  <thead>\n",
              "    <tr style=\"text-align: right;\">\n",
              "      <th></th>\n",
              "      <th>receita_cliente</th>\n",
              "      <th>anuidade_emprestimo</th>\n",
              "      <th>anos_casa_propria</th>\n",
              "      <th>telefone_trab</th>\n",
              "      <th>avaliacao_cidade</th>\n",
              "      <th>score_1</th>\n",
              "      <th>score_2</th>\n",
              "      <th>score_3</th>\n",
              "      <th>score_social</th>\n",
              "      <th>troca_telefone</th>\n",
              "      <th>inadimplente</th>\n",
              "    </tr>\n",
              "  </thead>\n",
              "  <tbody>\n",
              "    <tr>\n",
              "      <th>0</th>\n",
              "      <td>12600.0</td>\n",
              "      <td>3569.400000</td>\n",
              "      <td>12.157324</td>\n",
              "      <td>1</td>\n",
              "      <td>2.0</td>\n",
              "      <td>0.057153</td>\n",
              "      <td>0.527227</td>\n",
              "      <td>0.513171</td>\n",
              "      <td>0.117428</td>\n",
              "      <td>2545.0</td>\n",
              "      <td>0</td>\n",
              "    </tr>\n",
              "    <tr>\n",
              "      <th>1</th>\n",
              "      <td>9000.0</td>\n",
              "      <td>2722.188351</td>\n",
              "      <td>7.000000</td>\n",
              "      <td>0</td>\n",
              "      <td>2.0</td>\n",
              "      <td>0.657661</td>\n",
              "      <td>0.285898</td>\n",
              "      <td>0.614414</td>\n",
              "      <td>0.222700</td>\n",
              "      <td>495.0</td>\n",
              "      <td>0</td>\n",
              "    </tr>\n",
              "    <tr>\n",
              "      <th>2</th>\n",
              "      <td>15750.0</td>\n",
              "      <td>4477.500000</td>\n",
              "      <td>12.000000</td>\n",
              "      <td>0</td>\n",
              "      <td>2.0</td>\n",
              "      <td>0.501213</td>\n",
              "      <td>0.695423</td>\n",
              "      <td>0.513171</td>\n",
              "      <td>0.117428</td>\n",
              "      <td>1212.0</td>\n",
              "      <td>0</td>\n",
              "    </tr>\n",
              "    <tr>\n",
              "      <th>3</th>\n",
              "      <td>9000.0</td>\n",
              "      <td>1309.050000</td>\n",
              "      <td>12.157324</td>\n",
              "      <td>0</td>\n",
              "      <td>3.0</td>\n",
              "      <td>0.501213</td>\n",
              "      <td>0.155973</td>\n",
              "      <td>0.513171</td>\n",
              "      <td>0.117428</td>\n",
              "      <td>515.0</td>\n",
              "      <td>0</td>\n",
              "    </tr>\n",
              "    <tr>\n",
              "      <th>4</th>\n",
              "      <td>7650.0</td>\n",
              "      <td>1125.000000</td>\n",
              "      <td>12.157324</td>\n",
              "      <td>0</td>\n",
              "      <td>2.0</td>\n",
              "      <td>0.294328</td>\n",
              "      <td>0.152076</td>\n",
              "      <td>0.513171</td>\n",
              "      <td>0.117428</td>\n",
              "      <td>162.0</td>\n",
              "      <td>0</td>\n",
              "    </tr>\n",
              "  </tbody>\n",
              "</table>\n",
              "</div>\n",
              "    <div class=\"colab-df-buttons\">\n",
              "\n",
              "  <div class=\"colab-df-container\">\n",
              "    <button class=\"colab-df-convert\" onclick=\"convertToInteractive('df-42c7bf01-f8b6-4425-864d-291d4f357c76')\"\n",
              "            title=\"Convert this dataframe to an interactive table.\"\n",
              "            style=\"display:none;\">\n",
              "\n",
              "  <svg xmlns=\"http://www.w3.org/2000/svg\" height=\"24px\" viewBox=\"0 -960 960 960\">\n",
              "    <path d=\"M120-120v-720h720v720H120Zm60-500h600v-160H180v160Zm220 220h160v-160H400v160Zm0 220h160v-160H400v160ZM180-400h160v-160H180v160Zm440 0h160v-160H620v160ZM180-180h160v-160H180v160Zm440 0h160v-160H620v160Z\"/>\n",
              "  </svg>\n",
              "    </button>\n",
              "\n",
              "  <style>\n",
              "    .colab-df-container {\n",
              "      display:flex;\n",
              "      gap: 12px;\n",
              "    }\n",
              "\n",
              "    .colab-df-convert {\n",
              "      background-color: #E8F0FE;\n",
              "      border: none;\n",
              "      border-radius: 50%;\n",
              "      cursor: pointer;\n",
              "      display: none;\n",
              "      fill: #1967D2;\n",
              "      height: 32px;\n",
              "      padding: 0 0 0 0;\n",
              "      width: 32px;\n",
              "    }\n",
              "\n",
              "    .colab-df-convert:hover {\n",
              "      background-color: #E2EBFA;\n",
              "      box-shadow: 0px 1px 2px rgba(60, 64, 67, 0.3), 0px 1px 3px 1px rgba(60, 64, 67, 0.15);\n",
              "      fill: #174EA6;\n",
              "    }\n",
              "\n",
              "    .colab-df-buttons div {\n",
              "      margin-bottom: 4px;\n",
              "    }\n",
              "\n",
              "    [theme=dark] .colab-df-convert {\n",
              "      background-color: #3B4455;\n",
              "      fill: #D2E3FC;\n",
              "    }\n",
              "\n",
              "    [theme=dark] .colab-df-convert:hover {\n",
              "      background-color: #434B5C;\n",
              "      box-shadow: 0px 1px 3px 1px rgba(0, 0, 0, 0.15);\n",
              "      filter: drop-shadow(0px 1px 2px rgba(0, 0, 0, 0.3));\n",
              "      fill: #FFFFFF;\n",
              "    }\n",
              "  </style>\n",
              "\n",
              "    <script>\n",
              "      const buttonEl =\n",
              "        document.querySelector('#df-42c7bf01-f8b6-4425-864d-291d4f357c76 button.colab-df-convert');\n",
              "      buttonEl.style.display =\n",
              "        google.colab.kernel.accessAllowed ? 'block' : 'none';\n",
              "\n",
              "      async function convertToInteractive(key) {\n",
              "        const element = document.querySelector('#df-42c7bf01-f8b6-4425-864d-291d4f357c76');\n",
              "        const dataTable =\n",
              "          await google.colab.kernel.invokeFunction('convertToInteractive',\n",
              "                                                    [key], {});\n",
              "        if (!dataTable) return;\n",
              "\n",
              "        const docLinkHtml = 'Like what you see? Visit the ' +\n",
              "          '<a target=\"_blank\" href=https://colab.research.google.com/notebooks/data_table.ipynb>data table notebook</a>'\n",
              "          + ' to learn more about interactive tables.';\n",
              "        element.innerHTML = '';\n",
              "        dataTable['output_type'] = 'display_data';\n",
              "        await google.colab.output.renderOutput(dataTable, element);\n",
              "        const docLink = document.createElement('div');\n",
              "        docLink.innerHTML = docLinkHtml;\n",
              "        element.appendChild(docLink);\n",
              "      }\n",
              "    </script>\n",
              "  </div>\n",
              "\n",
              "\n",
              "    <div id=\"df-a78a6292-5d36-49ef-a10d-9f2dc69ca190\">\n",
              "      <button class=\"colab-df-quickchart\" onclick=\"quickchart('df-a78a6292-5d36-49ef-a10d-9f2dc69ca190')\"\n",
              "                title=\"Suggest charts\"\n",
              "                style=\"display:none;\">\n",
              "\n",
              "<svg xmlns=\"http://www.w3.org/2000/svg\" height=\"24px\"viewBox=\"0 0 24 24\"\n",
              "     width=\"24px\">\n",
              "    <g>\n",
              "        <path d=\"M19 3H5c-1.1 0-2 .9-2 2v14c0 1.1.9 2 2 2h14c1.1 0 2-.9 2-2V5c0-1.1-.9-2-2-2zM9 17H7v-7h2v7zm4 0h-2V7h2v10zm4 0h-2v-4h2v4z\"/>\n",
              "    </g>\n",
              "</svg>\n",
              "      </button>\n",
              "\n",
              "<style>\n",
              "  .colab-df-quickchart {\n",
              "      --bg-color: #E8F0FE;\n",
              "      --fill-color: #1967D2;\n",
              "      --hover-bg-color: #E2EBFA;\n",
              "      --hover-fill-color: #174EA6;\n",
              "      --disabled-fill-color: #AAA;\n",
              "      --disabled-bg-color: #DDD;\n",
              "  }\n",
              "\n",
              "  [theme=dark] .colab-df-quickchart {\n",
              "      --bg-color: #3B4455;\n",
              "      --fill-color: #D2E3FC;\n",
              "      --hover-bg-color: #434B5C;\n",
              "      --hover-fill-color: #FFFFFF;\n",
              "      --disabled-bg-color: #3B4455;\n",
              "      --disabled-fill-color: #666;\n",
              "  }\n",
              "\n",
              "  .colab-df-quickchart {\n",
              "    background-color: var(--bg-color);\n",
              "    border: none;\n",
              "    border-radius: 50%;\n",
              "    cursor: pointer;\n",
              "    display: none;\n",
              "    fill: var(--fill-color);\n",
              "    height: 32px;\n",
              "    padding: 0;\n",
              "    width: 32px;\n",
              "  }\n",
              "\n",
              "  .colab-df-quickchart:hover {\n",
              "    background-color: var(--hover-bg-color);\n",
              "    box-shadow: 0 1px 2px rgba(60, 64, 67, 0.3), 0 1px 3px 1px rgba(60, 64, 67, 0.15);\n",
              "    fill: var(--button-hover-fill-color);\n",
              "  }\n",
              "\n",
              "  .colab-df-quickchart-complete:disabled,\n",
              "  .colab-df-quickchart-complete:disabled:hover {\n",
              "    background-color: var(--disabled-bg-color);\n",
              "    fill: var(--disabled-fill-color);\n",
              "    box-shadow: none;\n",
              "  }\n",
              "\n",
              "  .colab-df-spinner {\n",
              "    border: 2px solid var(--fill-color);\n",
              "    border-color: transparent;\n",
              "    border-bottom-color: var(--fill-color);\n",
              "    animation:\n",
              "      spin 1s steps(1) infinite;\n",
              "  }\n",
              "\n",
              "  @keyframes spin {\n",
              "    0% {\n",
              "      border-color: transparent;\n",
              "      border-bottom-color: var(--fill-color);\n",
              "      border-left-color: var(--fill-color);\n",
              "    }\n",
              "    20% {\n",
              "      border-color: transparent;\n",
              "      border-left-color: var(--fill-color);\n",
              "      border-top-color: var(--fill-color);\n",
              "    }\n",
              "    30% {\n",
              "      border-color: transparent;\n",
              "      border-left-color: var(--fill-color);\n",
              "      border-top-color: var(--fill-color);\n",
              "      border-right-color: var(--fill-color);\n",
              "    }\n",
              "    40% {\n",
              "      border-color: transparent;\n",
              "      border-right-color: var(--fill-color);\n",
              "      border-top-color: var(--fill-color);\n",
              "    }\n",
              "    60% {\n",
              "      border-color: transparent;\n",
              "      border-right-color: var(--fill-color);\n",
              "    }\n",
              "    80% {\n",
              "      border-color: transparent;\n",
              "      border-right-color: var(--fill-color);\n",
              "      border-bottom-color: var(--fill-color);\n",
              "    }\n",
              "    90% {\n",
              "      border-color: transparent;\n",
              "      border-bottom-color: var(--fill-color);\n",
              "    }\n",
              "  }\n",
              "</style>\n",
              "\n",
              "      <script>\n",
              "        async function quickchart(key) {\n",
              "          const quickchartButtonEl =\n",
              "            document.querySelector('#' + key + ' button');\n",
              "          quickchartButtonEl.disabled = true;  // To prevent multiple clicks.\n",
              "          quickchartButtonEl.classList.add('colab-df-spinner');\n",
              "          try {\n",
              "            const charts = await google.colab.kernel.invokeFunction(\n",
              "                'suggestCharts', [key], {});\n",
              "          } catch (error) {\n",
              "            console.error('Error during call to suggestCharts:', error);\n",
              "          }\n",
              "          quickchartButtonEl.classList.remove('colab-df-spinner');\n",
              "          quickchartButtonEl.classList.add('colab-df-quickchart-complete');\n",
              "        }\n",
              "        (() => {\n",
              "          let quickchartButtonEl =\n",
              "            document.querySelector('#df-a78a6292-5d36-49ef-a10d-9f2dc69ca190 button');\n",
              "          quickchartButtonEl.style.display =\n",
              "            google.colab.kernel.accessAllowed ? 'block' : 'none';\n",
              "        })();\n",
              "      </script>\n",
              "    </div>\n",
              "\n",
              "    </div>\n",
              "  </div>\n"
            ],
            "application/vnd.google.colaboratory.intrinsic+json": {
              "type": "dataframe",
              "variable_name": "dados",
              "summary": "{\n  \"name\": \"dados\",\n  \"rows\": 54025,\n  \"fields\": [\n    {\n      \"column\": \"receita_cliente\",\n      \"properties\": {\n        \"dtype\": \"number\",\n        \"std\": 9658.762569130264,\n        \"min\": 2700.0,\n        \"max\": 450000.0,\n        \"num_unique_values\": 663,\n        \"samples\": [\n          11018.7,\n          38520.0,\n          17796.6\n        ],\n        \"semantic_type\": \"\",\n        \"description\": \"\"\n      }\n    },\n    {\n      \"column\": \"anuidade_emprestimo\",\n      \"properties\": {\n        \"dtype\": \"number\",\n        \"std\": 1305.3647344874787,\n        \"min\": 218.7,\n        \"max\": 22500.0,\n        \"num_unique_values\": 8004,\n        \"samples\": [\n          5339.7,\n          5067.0,\n          5757.3\n        ],\n        \"semantic_type\": \"\",\n        \"description\": \"\"\n      }\n    },\n    {\n      \"column\": \"anos_casa_propria\",\n      \"properties\": {\n        \"dtype\": \"number\",\n        \"std\": 7.452120104984191,\n        \"min\": 0.0,\n        \"max\": 69.0,\n        \"num_unique_values\": 53,\n        \"samples\": [\n          11.0,\n          31.0,\n          32.0\n        ],\n        \"semantic_type\": \"\",\n        \"description\": \"\"\n      }\n    },\n    {\n      \"column\": \"telefone_trab\",\n      \"properties\": {\n        \"dtype\": \"number\",\n        \"std\": 0,\n        \"min\": 0,\n        \"max\": 1,\n        \"num_unique_values\": 2,\n        \"samples\": [\n          0,\n          1\n        ],\n        \"semantic_type\": \"\",\n        \"description\": \"\"\n      }\n    },\n    {\n      \"column\": \"avaliacao_cidade\",\n      \"properties\": {\n        \"dtype\": \"number\",\n        \"std\": 0.49880682251877845,\n        \"min\": 1.0,\n        \"max\": 3.0,\n        \"num_unique_values\": 4,\n        \"samples\": [\n          3.0,\n          2.030038427084816\n        ],\n        \"semantic_type\": \"\",\n        \"description\": \"\"\n      }\n    },\n    {\n      \"column\": \"score_1\",\n      \"properties\": {\n        \"dtype\": \"number\",\n        \"std\": 0.14238945649917853,\n        \"min\": 0.014568132,\n        \"max\": 0.942680454,\n        \"num_unique_values\": 23062,\n        \"samples\": [\n          0.475611877,\n          0.435226091\n        ],\n        \"semantic_type\": \"\",\n        \"description\": \"\"\n      }\n    },\n    {\n      \"column\": \"score_2\",\n      \"properties\": {\n        \"dtype\": \"number\",\n        \"std\": 0.8759454878096079,\n        \"min\": 5e-06,\n        \"max\": 100.0,\n        \"num_unique_values\": 38047,\n        \"samples\": [\n          0.416306086,\n          0.675062411\n        ],\n        \"semantic_type\": \"\",\n        \"description\": \"\"\n      }\n    },\n    {\n      \"column\": \"score_3\",\n      \"properties\": {\n        \"dtype\": \"number\",\n        \"std\": 0.06272486372343226,\n        \"min\": 0.000527265,\n        \"max\": 0.869210801,\n        \"num_unique_values\": 612,\n        \"samples\": [\n          0.420610964,\n          0.168416171\n        ],\n        \"semantic_type\": \"\",\n        \"description\": \"\"\n      }\n    },\n    {\n      \"column\": \"score_social\",\n      \"properties\": {\n        \"dtype\": \"number\",\n        \"std\": 0.0761796573204536,\n        \"min\": 0.0,\n        \"max\": 1.0,\n        \"num_unique_values\": 1459,\n        \"samples\": [\n          0.1674,\n          0.6381\n        ],\n        \"semantic_type\": \"\",\n        \"description\": \"\"\n      }\n    },\n    {\n      \"column\": \"troca_telefone\",\n      \"properties\": {\n        \"dtype\": \"number\",\n        \"std\": 818.1417090553241,\n        \"min\": 0.0,\n        \"max\": 4185.0,\n        \"num_unique_values\": 3408,\n        \"samples\": [\n          966.0,\n          3099.0\n        ],\n        \"semantic_type\": \"\",\n        \"description\": \"\"\n      }\n    },\n    {\n      \"column\": \"inadimplente\",\n      \"properties\": {\n        \"dtype\": \"number\",\n        \"std\": 0,\n        \"min\": 0,\n        \"max\": 1,\n        \"num_unique_values\": 2,\n        \"samples\": [\n          1,\n          0\n        ],\n        \"semantic_type\": \"\",\n        \"description\": \"\"\n      }\n    }\n  ]\n}"
            }
          },
          "metadata": {},
          "execution_count": 10
        }
      ]
    },
    {
      "cell_type": "code",
      "source": [
        "dados.info()"
      ],
      "metadata": {
        "id": "ef4aPUAHkyLQ",
        "colab": {
          "base_uri": "https://localhost:8080/"
        },
        "outputId": "832c945a-032e-4136-813d-83c903469031"
      },
      "execution_count": 11,
      "outputs": [
        {
          "output_type": "stream",
          "name": "stdout",
          "text": [
            "<class 'pandas.core.frame.DataFrame'>\n",
            "RangeIndex: 54025 entries, 0 to 54024\n",
            "Data columns (total 11 columns):\n",
            " #   Column               Non-Null Count  Dtype  \n",
            "---  ------               --------------  -----  \n",
            " 0   receita_cliente      54025 non-null  float64\n",
            " 1   anuidade_emprestimo  54025 non-null  float64\n",
            " 2   anos_casa_propria    54025 non-null  float64\n",
            " 3   telefone_trab        54025 non-null  int64  \n",
            " 4   avaliacao_cidade     54025 non-null  float64\n",
            " 5   score_1              54025 non-null  float64\n",
            " 6   score_2              54025 non-null  float64\n",
            " 7   score_3              54025 non-null  float64\n",
            " 8   score_social         54025 non-null  float64\n",
            " 9   troca_telefone       54025 non-null  float64\n",
            " 10  inadimplente         54025 non-null  int64  \n",
            "dtypes: float64(9), int64(2)\n",
            "memory usage: 4.5 MB\n"
          ]
        }
      ]
    },
    {
      "cell_type": "code",
      "source": [
        "colunas = dados.columns.tolist()\n",
        "col_categoricas = dados.select_dtypes(include=['object']).columns.tolist()\n",
        "col_numericas = dados.select_dtypes(include=['number']).columns.tolist()\n",
        "col_alvo='inadimplente'\n",
        "colunas.remove(col_alvo)\n",
        "print (col_categoricas)\n",
        "print (col_numericas)"
      ],
      "metadata": {
        "id": "NKbv-w-3leuU",
        "colab": {
          "base_uri": "https://localhost:8080/"
        },
        "outputId": "e898eff7-73dc-4aab-a808-b3397645f54e"
      },
      "execution_count": 12,
      "outputs": [
        {
          "output_type": "stream",
          "name": "stdout",
          "text": [
            "[]\n",
            "['receita_cliente', 'anuidade_emprestimo', 'anos_casa_propria', 'telefone_trab', 'avaliacao_cidade', 'score_1', 'score_2', 'score_3', 'score_social', 'troca_telefone', 'inadimplente']\n"
          ]
        }
      ]
    },
    {
      "cell_type": "code",
      "source": [
        "x = dados.drop(col_alvo, axis=1)\n",
        "y = dados[col_alvo]"
      ],
      "metadata": {
        "id": "FTipCyhPmQX2"
      },
      "execution_count": 13,
      "outputs": []
    },
    {
      "cell_type": "markdown",
      "source": [
        "## Árvore de Decisão\n"
      ],
      "metadata": {
        "id": "TBxBdaaqc3V4"
      }
    },
    {
      "cell_type": "code",
      "source": [
        "# Testando com todos os dados\n",
        "tree = DecisionTreeClassifier()\n",
        "tree.fit(x, y)\n",
        "tree.score(x, y)"
      ],
      "metadata": {
        "id": "_lzOsMZamTZr",
        "colab": {
          "base_uri": "https://localhost:8080/"
        },
        "outputId": "c54aebc3-b357-4fe8-8429-02917732007f"
      },
      "execution_count": 14,
      "outputs": [
        {
          "output_type": "execute_result",
          "data": {
            "text/plain": [
              "1.0"
            ]
          },
          "metadata": {},
          "execution_count": 14
        }
      ]
    },
    {
      "cell_type": "code",
      "source": [
        "print(f'Acurácia no conjunto completo  : {tree.score(x, y)*100:.4f}%')\n"
      ],
      "metadata": {
        "id": "D1j60eFOeY4-",
        "colab": {
          "base_uri": "https://localhost:8080/"
        },
        "outputId": "0f312afb-e111-4802-f143-004b598dd6fe"
      },
      "execution_count": 15,
      "outputs": [
        {
          "output_type": "stream",
          "name": "stdout",
          "text": [
            "Acurácia no conjunto completo  : 100.0000%\n"
          ]
        }
      ]
    },
    {
      "cell_type": "markdown",
      "source": [
        "Separação entre Treino, Validação e Teste"
      ],
      "metadata": {
        "id": "mSk3PiKW8tOG"
      }
    },
    {
      "cell_type": "code",
      "source": [
        "x, x_test, y, y_test = train_test_split(x, y, test_size=0.15, stratify=y, random_state=5)\n",
        "x_train, x_val, y_train, y_val = train_test_split(x, y, stratify=y, random_state=5)"
      ],
      "metadata": {
        "id": "bZ2Wes05dEiW"
      },
      "execution_count": 16,
      "outputs": []
    },
    {
      "cell_type": "code",
      "source": [
        "tree = DecisionTreeClassifier()\n",
        "tree.fit(x_train, y_train)\n",
        "print(f'Acurácia no conjunto de treino : {tree.score(x_train, y_train)*100:.4f}%')\n",
        "print(f'Acurácia no conjunto de valid  : {tree.score(x_val, y_val)*100:.4f}%')"
      ],
      "metadata": {
        "colab": {
          "base_uri": "https://localhost:8080/"
        },
        "id": "Pgwv7a9w67Yz",
        "outputId": "793aebc0-9f77-4bd1-ccd0-53b4e34240bf"
      },
      "execution_count": 17,
      "outputs": [
        {
          "output_type": "stream",
          "name": "stdout",
          "text": [
            "Acurácia no conjunto de treino : 100.0000%\n",
            "Acurácia no conjunto de valid  : 84.8707%\n"
          ]
        }
      ]
    },
    {
      "cell_type": "code",
      "source": [
        "tree = DecisionTreeClassifier(max_depth=10)\n",
        "tree.fit(x_train, y_train)\n",
        "print(f'Acurácia no conjunto de treino : {tree.score(x_train, y_train)*100:.4f}%')\n",
        "print(f'Acurácia no conjunto de valid  : {tree.score(x_val, y_val)*100:.4f}%')"
      ],
      "metadata": {
        "colab": {
          "base_uri": "https://localhost:8080/"
        },
        "outputId": "286247f3-5ba2-4508-9af5-fcee74b45d8c",
        "id": "P97KodeN9m9E"
      },
      "execution_count": 18,
      "outputs": [
        {
          "output_type": "stream",
          "name": "stdout",
          "text": [
            "Acurácia no conjunto de treino : 92.0587%\n",
            "Acurácia no conjunto de valid  : 90.5583%\n"
          ]
        }
      ]
    },
    {
      "cell_type": "markdown",
      "source": [
        "##Fazendo uma Matriz de Confusão"
      ],
      "metadata": {
        "id": "RhPgfYYC_vhF"
      }
    },
    {
      "cell_type": "code",
      "source": [
        "y_previsto = tree.predict(x_val)\n",
        "matriz_confusao = confusion_matrix(y_val, y_previsto)\n",
        "print(matriz_confusao)"
      ],
      "metadata": {
        "colab": {
          "base_uri": "https://localhost:8080/"
        },
        "id": "09EHABdO_8rX",
        "outputId": "e2ec8279-d702-4147-8e1b-c0d7a835f9a8"
      },
      "execution_count": 19,
      "outputs": [
        {
          "output_type": "stream",
          "name": "stdout",
          "text": [
            "[[10357   122]\n",
            " [  962    40]]\n"
          ]
        }
      ]
    },
    {
      "cell_type": "code",
      "source": [
        "visualizacao = ConfusionMatrixDisplay(confusion_matrix=matriz_confusao, display_labels=['Adimplente','Inadimplente'])\n",
        "visualizacao.plot();\n"
      ],
      "metadata": {
        "colab": {
          "base_uri": "https://localhost:8080/",
          "height": 449
        },
        "id": "0Fj9PQthAJSp",
        "outputId": "ce85d4a9-2dbf-4ff6-dcf4-ac01b429197f"
      },
      "execution_count": 20,
      "outputs": [
        {
          "output_type": "display_data",
          "data": {
            "text/plain": [
              "<Figure size 640x480 with 2 Axes>"
            ],
            "image/png": "[encoded data removed]"
          },
          "metadata": {}
        }
      ]
    },
    {
      "cell_type": "markdown",
      "source": [
        "O modelo está performando com boa acurácia para os Adimplentes, mas está muito mal para os inadimplentes com apenas 40 acertos em 1002"
      ],
      "metadata": {
        "id": "mg5bSTj8BWQ5"
      }
    },
    {
      "cell_type": "markdown",
      "source": [
        "### Random Forest"
      ],
      "metadata": {
        "id": "3ugUO79eDhCn"
      }
    },
    {
      "cell_type": "code",
      "source": [
        "modelo_rf = RandomForestClassifier(max_depth = 7)\n",
        "modelo_rf.fit(x_train, y_train)\n",
        "print(f'Acurácia no conjunto de treino : {modelo_rf.score(x_train, y_train)*100:.4f}%')\n",
        "print(f'Acurácia no conjunto de valid  : {modelo_rf.score(x_val, y_val)*100:.4f}%')"
      ],
      "metadata": {
        "colab": {
          "base_uri": "https://localhost:8080/"
        },
        "id": "w2bhOVYpAdBh",
        "outputId": "717a6291-f87f-46cd-af9f-8b041ee53630"
      },
      "execution_count": 21,
      "outputs": [
        {
          "output_type": "stream",
          "name": "stdout",
          "text": [
            "Acurácia no conjunto de treino : 91.3008%\n",
            "Acurácia no conjunto de valid  : 91.2725%\n"
          ]
        }
      ]
    },
    {
      "cell_type": "code",
      "source": [
        "y_previsto_rf = modelo_rf.predict(x_val)\n",
        "matriz_confusao_rf = confusion_matrix(y_val, y_previsto_rf)\n",
        "print(matriz_confusao_rf)"
      ],
      "metadata": {
        "colab": {
          "base_uri": "https://localhost:8080/"
        },
        "id": "3tptmd3SDryE",
        "outputId": "70e11981-2ea5-47f5-9dc6-73d565c59102"
      },
      "execution_count": 22,
      "outputs": [
        {
          "output_type": "stream",
          "name": "stdout",
          "text": [
            "[[10479     0]\n",
            " [ 1002     0]]\n"
          ]
        }
      ]
    },
    {
      "cell_type": "code",
      "source": [
        "visualizacao = ConfusionMatrixDisplay(confusion_matrix=matriz_confusao_rf, display_labels=['Adimplente','Inadimplente'])\n",
        "visualizacao.plot();"
      ],
      "metadata": {
        "colab": {
          "base_uri": "https://localhost:8080/",
          "height": 449
        },
        "id": "PjPR8Y9KDtX_",
        "outputId": "d03b8d00-28d8-4874-a866-38971f949ba3"
      },
      "execution_count": 23,
      "outputs": [
        {
          "output_type": "display_data",
          "data": {
            "text/plain": [
              "<Figure size 640x480 with 2 Axes>"
            ],
            "image/png": "[encoded data removed]"
          },
          "metadata": {}
        }
      ]
    },
    {
      "cell_type": "markdown",
      "source": [
        "## Avaliando Acurácia, Precisão, Recall e F-Score\n"
      ],
      "metadata": {
        "id": "5z6YC1fUKnOH"
      }
    },
    {
      "cell_type": "code",
      "source": [
        "print('Modelo Árvore:')\n",
        "print('==============')\n",
        "print(f'Acurácia : {accuracy_score(y_val, y_previsto)*100:.4f}%')\n",
        "print(f'Recall    : {recall_score(y_val, y_previsto)*100:.4f}%')\n",
        "print(f'Precisão  : {precision_score(y_val, y_previsto)*100:.4f}%')\n",
        "print(f'F1-Score  : {f1_score(y_val, y_previsto)*100:.4f}%')\n",
        "\n",
        "print(classification_report(y_val, y_previsto))"
      ],
      "metadata": {
        "colab": {
          "base_uri": "https://localhost:8080/"
        },
        "id": "yvnighrBJWLv",
        "outputId": "fbc4805b-a0bb-467a-e6cb-89b0701e5241"
      },
      "execution_count": 24,
      "outputs": [
        {
          "output_type": "stream",
          "name": "stdout",
          "text": [
            "Modelo Árvore:\n",
            "==============\n",
            "Acurácia : 90.5583%\n",
            "Recall    : 3.9920%\n",
            "Precisão  : 24.6914%\n",
            "F1-Score  : 6.8729%\n",
            "              precision    recall  f1-score   support\n",
            "\n",
            "           0       0.92      0.99      0.95     10479\n",
            "           1       0.25      0.04      0.07      1002\n",
            "\n",
            "    accuracy                           0.91     11481\n",
            "   macro avg       0.58      0.51      0.51     11481\n",
            "weighted avg       0.86      0.91      0.87     11481\n",
            "\n"
          ]
        }
      ]
    },
    {
      "cell_type": "code",
      "source": [
        "print('Modelo Random Forest:')\n",
        "print('====================')\n",
        "print(f'Acurácia : {accuracy_score(y_val, y_previsto_rf)*100:.4f}%')\n",
        "print(f'Recall    : {recall_score(y_val, y_previsto_rf)*100:.4f}%')\n",
        "print(f'Precisão  : {precision_score(y_val, y_previsto_rf)*100:.4f}%')\n",
        "print(f'F1-Score  : {f1_score(y_val, y_previsto_rf)*100:.4f}%')"
      ],
      "metadata": {
        "colab": {
          "base_uri": "https://localhost:8080/"
        },
        "id": "pskeY_zcJh2D",
        "outputId": "3d2d91a8-863d-4336-f866-1ccb64edf2ca"
      },
      "execution_count": 25,
      "outputs": [
        {
          "output_type": "stream",
          "name": "stdout",
          "text": [
            "Modelo Random Forest:\n",
            "====================\n",
            "Acurácia : 91.2725%\n",
            "Recall    : 0.0000%\n",
            "Precisão  : 0.0000%\n",
            "F1-Score  : 0.0000%\n"
          ]
        },
        {
          "output_type": "stream",
          "name": "stderr",
          "text": [
            "/usr/local/lib/python3.11/dist-packages/sklearn/metrics/_classification.py:1565: UndefinedMetricWarning: Precision is ill-defined and being set to 0.0 due to no predicted samples. Use `zero_division` parameter to control this behavior.\n",
            "  _warn_prf(average, modifier, f\"{metric.capitalize()} is\", len(result))\n"
          ]
        }
      ]
    },
    {
      "cell_type": "markdown",
      "source": [
        "## Curva ROC"
      ],
      "metadata": {
        "id": "KUBXuckGL1Mn"
      }
    },
    {
      "cell_type": "code",
      "source": [
        "fig, ax = plt.subplots()\n",
        "RocCurveDisplay.from_predictions(y_val, y_previsto, name = 'Árvore de Decisão', ax=ax)\n",
        "RocCurveDisplay.from_predictions(y_val, y_previsto_rf, name = 'Random Forest', ax=ax)\n",
        "plt.show()"
      ],
      "metadata": {
        "colab": {
          "base_uri": "https://localhost:8080/",
          "height": 451
        },
        "id": "Njid0Aq-NQT9",
        "outputId": "277b0104-3c88-417f-d5a7-f1979ce78c34"
      },
      "execution_count": 26,
      "outputs": [
        {
          "output_type": "display_data",
          "data": {
            "text/plain": [
              "<Figure size 640x480 with 1 Axes>"
            ],
            "image/png": "[encoded data removed]"
          },
          "metadata": {}
        }
      ]
    },
    {
      "cell_type": "code",
      "source": [
        "print('Modelo Árvore:')\n",
        "print('==============')\n",
        "print(f'Acurácia : {accuracy_score(y_val, y_previsto)*100:.4f}%')\n",
        "print(f'Recall    : {recall_score(y_val, y_previsto)*100:.4f}%')\n",
        "print(f'Precisão  : {precision_score(y_val, y_previsto)*100:.4f}%')\n",
        "print(f'F1-Score  : {f1_score(y_val, y_previsto)*100:.4f}%')\n",
        "print(f'ROC AUC   : {roc_auc_score(y_val, y_previsto)*100:.4f}%')"
      ],
      "metadata": {
        "colab": {
          "base_uri": "https://localhost:8080/"
        },
        "id": "6OKjVcY1NIS_",
        "outputId": "d077e124-f02b-4218-a57b-271d2688f928"
      },
      "execution_count": 27,
      "outputs": [
        {
          "output_type": "stream",
          "name": "stdout",
          "text": [
            "Modelo Árvore:\n",
            "==============\n",
            "Acurácia : 90.5583%\n",
            "Recall    : 3.9920%\n",
            "Precisão  : 24.6914%\n",
            "F1-Score  : 6.8729%\n",
            "ROC AUC   : 51.4139%\n"
          ]
        }
      ]
    },
    {
      "cell_type": "code",
      "source": [
        "print('Modelo Random Forest:')\n",
        "print('====================')\n",
        "print(f'Acurácia : {accuracy_score(y_val, y_previsto_rf)*100:.4f}%')\n",
        "print(f'Recall    : {recall_score(y_val, y_previsto_rf)*100:.4f}%')\n",
        "print(f'Precisão  : {precision_score(y_val, y_previsto_rf)*100:.4f}%')\n",
        "print(f'F1-Score  : {f1_score(y_val, y_previsto_rf)*100:.4f}%')\n",
        "print(f'ROC AUC   : {roc_auc_score(y_val, y_previsto_rf)*100:.4f}%')"
      ],
      "metadata": {
        "colab": {
          "base_uri": "https://localhost:8080/"
        },
        "id": "PrQhS0cIMQOA",
        "outputId": "6e819ef5-d393-4dfd-a5dd-7fa889c71634"
      },
      "execution_count": 28,
      "outputs": [
        {
          "output_type": "stream",
          "name": "stdout",
          "text": [
            "Modelo Random Forest:\n",
            "====================\n",
            "Acurácia : 91.2725%\n",
            "Recall    : 0.0000%\n",
            "Precisão  : 0.0000%\n",
            "F1-Score  : 0.0000%\n",
            "ROC AUC   : 50.0000%\n"
          ]
        },
        {
          "output_type": "stream",
          "name": "stderr",
          "text": [
            "/usr/local/lib/python3.11/dist-packages/sklearn/metrics/_classification.py:1565: UndefinedMetricWarning: Precision is ill-defined and being set to 0.0 due to no predicted samples. Use `zero_division` parameter to control this behavior.\n",
            "  _warn_prf(average, modifier, f\"{metric.capitalize()} is\", len(result))\n"
          ]
        }
      ]
    },
    {
      "cell_type": "markdown",
      "source": [
        "Ambos os modelos estão muito mal\n"
      ],
      "metadata": {
        "id": "lKOi2gaRN5qm"
      }
    },
    {
      "cell_type": "markdown",
      "source": [
        "### Curva de Precisão x Recall"
      ],
      "metadata": {
        "id": "tlXuTDe_PdTp"
      }
    },
    {
      "cell_type": "code",
      "source": [
        "fig, ax = plt.subplots()\n",
        "PrecisionRecallDisplay.from_predictions(y_val, y_previsto, name = 'Árvore de Decisão', ax=ax)\n",
        "PrecisionRecallDisplay.from_predictions(y_val, y_previsto_rf, name = 'Random Forest', ax=ax)\n",
        "plt.legend(loc = 'upper right')\n",
        "plt.show()"
      ],
      "metadata": {
        "colab": {
          "base_uri": "https://localhost:8080/",
          "height": 451
        },
        "id": "PqPsW3MJPcsK",
        "outputId": "8cf3813e-57eb-45fd-f0a1-25eda70072d6"
      },
      "execution_count": 29,
      "outputs": [
        {
          "output_type": "display_data",
          "data": {
            "text/plain": [
              "<Figure size 640x480 with 1 Axes>"
            ],
            "image/png": "[encoded data removed]"
          },
          "metadata": {}
        }
      ]
    },
    {
      "cell_type": "code",
      "source": [
        "print('Indicador    :   Árvore      |  Random Forest')\n",
        "print('=========================================================')\n",
        "print(f'Acurácia     : {accuracy_score(y_val, y_previsto)*100:8.4f}%     |    {accuracy_score(y_val, y_previsto_rf)*100:8.4f}%')\n",
        "print(f'Recall       : {recall_score(y_val, y_previsto)*100:8.4f}%     |    {recall_score(y_val, y_previsto_rf)*100:8.4f}%')\n",
        "print(f'Precisão     : {precision_score(y_val, y_previsto)*100:8.4f}%     |    {precision_score(y_val, y_previsto_rf)*100:8.4f}%')\n",
        "print(f'F1-Score     : {f1_score(y_val, y_previsto)*100:8.4f}%     |    {f1_score(y_val, y_previsto_rf)*100:8.4f}%')\n",
        "print(f'ROC AUC      : {roc_auc_score(y_val, y_previsto)*100:8.4f}%     |    {roc_auc_score(y_val, y_previsto_rf)*100:8.4f}%')\n",
        "print(f'PR AUC       : {average_precision_score(y_val, y_previsto)*100:8.4f}%     |    {average_precision_score(y_val, y_previsto_rf)*100:8.4f}%')"
      ],
      "metadata": {
        "colab": {
          "base_uri": "https://localhost:8080/"
        },
        "id": "kDjRV2p4NBkh",
        "outputId": "b69c7850-3c0b-4b42-838c-2bfbf0bf0980"
      },
      "execution_count": 30,
      "outputs": [
        {
          "output_type": "stream",
          "name": "stdout",
          "text": [
            "Indicador    :   Árvore      |  Random Forest\n",
            "=========================================================\n",
            "Acurácia     :  90.5583%     |     91.2725%\n",
            "Recall       :   3.9920%     |      0.0000%\n",
            "Precisão     :  24.6914%     |      0.0000%\n",
            "F1-Score     :   6.8729%     |      0.0000%\n",
            "ROC AUC      :  51.4139%     |     50.0000%\n",
            "PR AUC       :   9.3647%     |      8.7275%\n"
          ]
        },
        {
          "output_type": "stream",
          "name": "stderr",
          "text": [
            "/usr/local/lib/python3.11/dist-packages/sklearn/metrics/_classification.py:1565: UndefinedMetricWarning: Precision is ill-defined and being set to 0.0 due to no predicted samples. Use `zero_division` parameter to control this behavior.\n",
            "  _warn_prf(average, modifier, f\"{metric.capitalize()} is\", len(result))\n"
          ]
        }
      ]
    },
    {
      "cell_type": "code",
      "source": [
        "print(classification_report(y_val, y_previsto))"
      ],
      "metadata": {
        "colab": {
          "base_uri": "https://localhost:8080/"
        },
        "id": "O4B6adZjQ-Uv",
        "outputId": "1c82e011-3d4e-4396-f5a9-a45273ff42f6"
      },
      "execution_count": 31,
      "outputs": [
        {
          "output_type": "stream",
          "name": "stdout",
          "text": [
            "              precision    recall  f1-score   support\n",
            "\n",
            "           0       0.92      0.99      0.95     10479\n",
            "           1       0.25      0.04      0.07      1002\n",
            "\n",
            "    accuracy                           0.91     11481\n",
            "   macro avg       0.58      0.51      0.51     11481\n",
            "weighted avg       0.86      0.91      0.87     11481\n",
            "\n"
          ]
        }
      ]
    },
    {
      "cell_type": "code",
      "source": [
        "print(classification_report(y_val, y_previsto_rf))"
      ],
      "metadata": {
        "colab": {
          "base_uri": "https://localhost:8080/"
        },
        "id": "g4Bxb-UhUO3D",
        "outputId": "88bf36e6-71a9-4f47-ff7b-2b40500573bd"
      },
      "execution_count": 32,
      "outputs": [
        {
          "output_type": "stream",
          "name": "stdout",
          "text": [
            "              precision    recall  f1-score   support\n",
            "\n",
            "           0       0.91      1.00      0.95     10479\n",
            "           1       0.00      0.00      0.00      1002\n",
            "\n",
            "    accuracy                           0.91     11481\n",
            "   macro avg       0.46      0.50      0.48     11481\n",
            "weighted avg       0.83      0.91      0.87     11481\n",
            "\n"
          ]
        },
        {
          "output_type": "stream",
          "name": "stderr",
          "text": [
            "/usr/local/lib/python3.11/dist-packages/sklearn/metrics/_classification.py:1565: UndefinedMetricWarning: Precision is ill-defined and being set to 0.0 in labels with no predicted samples. Use `zero_division` parameter to control this behavior.\n",
            "  _warn_prf(average, modifier, f\"{metric.capitalize()} is\", len(result))\n",
            "/usr/local/lib/python3.11/dist-packages/sklearn/metrics/_classification.py:1565: UndefinedMetricWarning: Precision is ill-defined and being set to 0.0 in labels with no predicted samples. Use `zero_division` parameter to control this behavior.\n",
            "  _warn_prf(average, modifier, f\"{metric.capitalize()} is\", len(result))\n",
            "/usr/local/lib/python3.11/dist-packages/sklearn/metrics/_classification.py:1565: UndefinedMetricWarning: Precision is ill-defined and being set to 0.0 in labels with no predicted samples. Use `zero_division` parameter to control this behavior.\n",
            "  _warn_prf(average, modifier, f\"{metric.capitalize()} is\", len(result))\n"
          ]
        }
      ]
    },
    {
      "cell_type": "markdown",
      "source": [
        "# K-Fold\n"
      ],
      "metadata": {
        "id": "q3o54LLO7Hjs"
      }
    },
    {
      "cell_type": "code",
      "source": [
        "\n",
        "modelo_tree = DecisionTreeClassifier(max_depth = 5)\n",
        "kf = KFold(n_splits=5, shuffle=True, random_state=5)\n",
        "cv_resultados = cross_validate(modelo_tree, x, y, cv=kf)\n",
        "cv_resultados"
      ],
      "metadata": {
        "colab": {
          "base_uri": "https://localhost:8080/"
        },
        "id": "D27VMt8DUQFA",
        "outputId": "8d9c686d-a50e-427b-ab85-027555c96a70"
      },
      "execution_count": 46,
      "outputs": [
        {
          "output_type": "execute_result",
          "data": {
            "text/plain": [
              "{'fit_time': array([0.21770954, 0.16562176, 0.16954327, 0.29526973, 0.31152058]),\n",
              " 'score_time': array([0.00497246, 0.00460601, 0.00849199, 0.01194167, 0.00443006]),\n",
              " 'test_score': array([0.91714752, 0.91082317, 0.9106054 , 0.91550523, 0.90516115])}"
            ]
          },
          "metadata": {},
          "execution_count": 46
        }
      ]
    },
    {
      "cell_type": "code",
      "source": [
        "media = cv_resultados['test_score'].mean()\n",
        "desvio_padrao = cv_resultados['test_score'].std()\n",
        "print(f'Intervalo de confianca: [{media-2*desvio_padrao:.4f}, {min(media+2*desvio_padrao, 1):.4f}]')"
      ],
      "metadata": {
        "colab": {
          "base_uri": "https://localhost:8080/"
        },
        "id": "2azsmp0n8Mqm",
        "outputId": "410e9ec4-d918-462e-bed0-8880d5c4564c"
      },
      "execution_count": 47,
      "outputs": [
        {
          "output_type": "stream",
          "name": "stdout",
          "text": [
            "Intervalo de confianca: [0.9034, 0.9203]\n"
          ]
        }
      ]
    },
    {
      "cell_type": "markdown",
      "source": [
        "## Validação Cruzada com Recall"
      ],
      "metadata": {
        "id": "8UIFAeWt_kLl"
      }
    },
    {
      "cell_type": "code",
      "source": [
        "\n",
        "def intervalo_conf(resultados,score_list):\n",
        "  r = {}\n",
        "  for score in score_list:\n",
        "    media = resultados[score].mean()\n",
        "    desvio_padrao = resultados[score].std()\n",
        "    r[score] = f'[ {media-2*desvio_padrao:.6f}, {min(media+2*desvio_padrao, 1):.6f} ]'\n",
        "  return r"
      ],
      "metadata": {
        "id": "VqmHmngE8l9_"
      },
      "execution_count": 78,
      "outputs": []
    },
    {
      "cell_type": "code",
      "source": [
        "print(f'Intervalo de confianca: [{media-2*desvio_padrao:.4f}, {min(media+2*desvio_padrao, 1):.4f}]')"
      ],
      "metadata": {
        "id": "fU7E8LGwBH7B"
      },
      "execution_count": null,
      "outputs": []
    },
    {
      "cell_type": "code",
      "source": [
        "\n",
        "modelo_tree = DecisionTreeClassifier(max_depth = 5)\n",
        "kf = KFold(n_splits=5, shuffle=True, random_state=5)\n",
        "cv_resultados = cross_validate(modelo_tree, x, y, cv=kf, scoring = ('accuracy', 'recall','precision', 'f1', 'roc_auc'))\n",
        "cv_resultados"
      ],
      "metadata": {
        "colab": {
          "base_uri": "https://localhost:8080/"
        },
        "id": "L_qxjsCx_gAq",
        "outputId": "f33d8e75-a023-434c-a316-48c425cdb77c"
      },
      "execution_count": 70,
      "outputs": [
        {
          "output_type": "execute_result",
          "data": {
            "text/plain": [
              "{'fit_time': array([0.17458749, 0.17249155, 0.16858745, 0.16914463, 0.16547132]),\n",
              " 'score_time': array([0.02724338, 0.02909636, 0.03044438, 0.02672148, 0.02686167]),\n",
              " 'test_accuracy': array([0.91714752, 0.91082317, 0.9106054 , 0.91550523, 0.90527003]),\n",
              " 'test_recall': array([0.00264201, 0.00247525, 0.00738007, 0.01174935, 0.00115607]),\n",
              " 'test_precision': array([0.25      , 0.13333333, 0.3       , 0.32142857, 0.14285714]),\n",
              " 'test_f1': array([0.00522876, 0.00486027, 0.01440576, 0.02267003, 0.00229358]),\n",
              " 'test_roc_auc': array([0.67005308, 0.66406198, 0.65864822, 0.66335139, 0.64754816])}"
            ]
          },
          "metadata": {},
          "execution_count": 70
        }
      ]
    },
    {
      "cell_type": "code",
      "source": [
        "intervalo_conf(cv_resultados,['test_accuracy', 'test_recall','test_precision', 'test_f1', 'test_roc_auc'])\n"
      ],
      "metadata": {
        "colab": {
          "base_uri": "https://localhost:8080/"
        },
        "id": "ei0HlZUC_zuW",
        "outputId": "d1bc35d3-d322-45cb-9498-b2e1dd69a0f5"
      },
      "execution_count": 71,
      "outputs": [
        {
          "output_type": "execute_result",
          "data": {
            "text/plain": [
              "{'test_accuracy': '[ 0.9035, 0.9202 ]',\n",
              " 'test_recall': '[ -0.0028, 0.0130 ]',\n",
              " 'test_precision': '[ 0.0731, 0.3860 ]',\n",
              " 'test_f1': '[ -0.0053, 0.0251 ]',\n",
              " 'test_roc_auc': '[ 0.6457, 0.6758 ]'}"
            ]
          },
          "metadata": {},
          "execution_count": 71
        }
      ]
    },
    {
      "cell_type": "markdown",
      "source": [
        "## Estratificando os dados"
      ],
      "metadata": {
        "id": "8f9ZIbjCELQh"
      }
    },
    {
      "cell_type": "code",
      "source": [
        "dados['inadimplente'].value_counts(normalize=True)"
      ],
      "metadata": {
        "colab": {
          "base_uri": "https://localhost:8080/",
          "height": 178
        },
        "id": "tT0UlNQP_4g4",
        "outputId": "866d5c03-c2b8-440b-dd18-879218af2015"
      },
      "execution_count": 72,
      "outputs": [
        {
          "output_type": "execute_result",
          "data": {
            "text/plain": [
              "inadimplente\n",
              "0    0.912707\n",
              "1    0.087293\n",
              "Name: proportion, dtype: float64"
            ],
            "text/html": [
              "<div>\n",
              "<style scoped>\n",
              "    .dataframe tbody tr th:only-of-type {\n",
              "        vertical-align: middle;\n",
              "    }\n",
              "\n",
              "    .dataframe tbody tr th {\n",
              "        vertical-align: top;\n",
              "    }\n",
              "\n",
              "    .dataframe thead th {\n",
              "        text-align: right;\n",
              "    }\n",
              "</style>\n",
              "<table border=\"1\" class=\"dataframe\">\n",
              "  <thead>\n",
              "    <tr style=\"text-align: right;\">\n",
              "      <th></th>\n",
              "      <th>proportion</th>\n",
              "    </tr>\n",
              "    <tr>\n",
              "      <th>inadimplente</th>\n",
              "      <th></th>\n",
              "    </tr>\n",
              "  </thead>\n",
              "  <tbody>\n",
              "    <tr>\n",
              "      <th>0</th>\n",
              "      <td>0.912707</td>\n",
              "    </tr>\n",
              "    <tr>\n",
              "      <th>1</th>\n",
              "      <td>0.087293</td>\n",
              "    </tr>\n",
              "  </tbody>\n",
              "</table>\n",
              "</div><br><label><b>dtype:</b> float64</label>"
            ]
          },
          "metadata": {},
          "execution_count": 72
        }
      ]
    },
    {
      "cell_type": "code",
      "source": [
        "\n",
        "modelo_tree = DecisionTreeClassifier(max_depth = 5)\n",
        "skf = StratifiedKFold(n_splits=5, shuffle=True, random_state=5, )\n",
        "cv_resultados = cross_validate(modelo_tree, x, y, cv=skf, scoring = ('accuracy', 'recall','precision', 'f1', 'roc_auc'))\n",
        "intervalo_conf(cv_resultados,['test_accuracy', 'test_recall','test_precision', 'test_roc_auc','test_f1' ])"
      ],
      "metadata": {
        "colab": {
          "base_uri": "https://localhost:8080/"
        },
        "id": "686FE8DiEF_x",
        "outputId": "ae4eb795-e9b4-47b7-d008-29327ad500eb"
      },
      "execution_count": 79,
      "outputs": [
        {
          "output_type": "execute_result",
          "data": {
            "text/plain": [
              "{'test_accuracy': '[ 0.911230, 0.911945 ]',\n",
              " 'test_recall': '[ -0.002574, 0.009058 ]',\n",
              " 'test_precision': '[ -0.031735, 0.325910 ]',\n",
              " 'test_roc_auc': '[ 0.643809, 0.672186 ]',\n",
              " 'test_f1': '[ -0.004952, 0.017621 ]'}"
            ]
          },
          "metadata": {},
          "execution_count": 79
        }
      ]
    },
    {
      "cell_type": "markdown",
      "source": [
        "**GroupKFold**\n",
        "\n",
        "O método GroupKFold é uma variação da validação cruzada KFold tradicional e é utilizado quando os dados possuem alguma estrutura de grupo ou dependência que não deve ser quebrada, geralmente uma característica em uma das colunas da base de dados.\n",
        "\n",
        "Essa abordagem utiliza uma estratégia de separação dos dados para que os registros pertencentes a um grupo específico sejam mantidas juntas durante as divisões do KFold, garantindo que não sejam separadas entre os conjuntos de treinamento e validação. Isso é útil para evitar possíveis vieses e garantir que o modelo generalize para grupos desconhecidos, ou seja. Mesmo que não tenha um dado do grupo no conjunto de treinamento, o modelo precisará ter um bom desempenho ao prever o resultado para os dados daquele grupo.\n",
        "\n",
        "**Leave-p-out**\n",
        "\n",
        "O método Leave-p-out funciona de maneira diferente do método KFold. Ao invés de dividir o conjunto de dados em uma quantidade fixada de conjuntos, será escolhida uma quantidade 'p' de elementos para serem deixados de fora do treinamento. Os dados serão treinados em todo o restante e validados apenas nos 'p' elementos. Esse processo é repetido até que todos os dados sejam utilizados como dados de validação. O resultado final pode ser considerado a média dos resultados obtidos nos modelos, assim como é feito na validação cruzada tradicional.\n",
        "\n",
        "Isso proporciona uma validação bem mais completa, já que considera todas as combinações possíveis de dados de treino e validação. Porém, é muito mais custosa computacionalmente, já que serão criados muitos modelos e isso aumenta a quantidade conforme o conjunto de dados seja muito grande e o valor escolhido para 'p' seja pequeno.\n",
        "\n",
        "\n",
        "**Leave-one-out**\n",
        "\n",
        "O método Leave-one-out é uma forma especial do Leave-p-out, onde é escolhido o valor de p=1. Dessa maneira, apenas uma amostra é reservada para validação e todos os outros dados são escolhidos para treinamento. Esse processo é repetido para todas as amostras da base de dados. Isso significa que, se houver 1000 linhas na base de dados, serão treinados 1000 modelos distintos.\n",
        "\n",
        "É de se esperar que esse método demanda muito computacionalmente, pela criação de um modelo para cada linha da base de dados. Portanto, ele é indicado somente nos casos em que a base de dados é muito pequena. Nessas situações, é interessante utilizar a maior quantidade de dados possível para treinamento, para que o modelo consiga entender o padrão dos dados. Outra estratégia de validação cruzada removeria muitos dados que seriam úteis no treino.\n",
        "\n",
        "Caso deseje saber mais sobre outros métodos de validação disponíveis na biblioteca Scikit-Learn, você pode consultar a documentação Validação cruzada: avaliando o desempenho do estimador.\n",
        "\n",
        "Caso queira criar uma visualização para ter um melhor entendimento de como foi realizada a divisão dos dados em algum projeto, seja com o KFold, StratifiedKFold ou GroupKFold, você pode explorar a documentação Visualizando o comportamento de validação cruzada no scikit-learn."
      ],
      "metadata": {
        "id": "5hVRlJyzF83I"
      }
    }
  ]
}