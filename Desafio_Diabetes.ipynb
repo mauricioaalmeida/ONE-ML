{
  "nbformat": 4,
  "nbformat_minor": 0,
  "metadata": {
    "colab": {
      "provenance": [],
      "toc_visible": true,
      "include_colab_link": true
    },
    "kernelspec": {
      "name": "python3",
      "display_name": "Python 3"
    },
    "language_info": {
      "name": "python"
    }
  },
  "cells": [
    {
      "cell_type": "markdown",
      "metadata": {
        "id": "view-in-github",
        "colab_type": "text"
      },
      "source": [
        "<a href=\"https://colab.research.google.com/github/mauricioaalmeida/ONE-ML/blob/main/Desafio_Diabetes.ipynb\" target=\"_parent\"><img src=\"https://colab.research.google.com/assets/colab-badge.svg\" alt=\"Open In Colab\"/></a>"
      ]
    },
    {
      "cell_type": "markdown",
      "source": [
        "### Sobre o notebook\n",
        "\n",
        "Esse notebook contém diversos desafios envolvendo os aprendizados de cada aula. É um notebook construído com o enunciado de cada desafio e com espaço para construir e executar suas soluções. Se for necessário adicionar mais células de código para solucionar o desafio, fique à vontade para acrescentar."
      ],
      "metadata": {
        "id": "_kwAaQ36gLQ1"
      }
    },
    {
      "cell_type": "code",
      "source": [
        "import numpy as np\n",
        "import pandas as pd\n",
        "import matplotlib.pyplot as plt\n",
        "import seaborn as sns\n",
        "import plotly.express as px\n",
        "\n",
        "from sklearn.preprocessing import OneHotEncoder\n",
        "from sklearn.compose import make_column_transformer\n",
        "from sklearn.preprocessing import LabelEncoder, MinMaxScaler\n",
        "from sklearn.model_selection import train_test_split, cross_validate, KFold, StratifiedKFold, LeaveOneOut\n",
        "from sklearn.metrics import accuracy_score, precision_score, recall_score, f1_score, confusion_matrix, classification_report, ConfusionMatrixDisplay, RocCurveDisplay, roc_auc_score\n",
        "from sklearn.metrics import PrecisionRecallDisplay, average_precision_score, precision_recall_curve\n",
        "\n",
        "from imblearn.over_sampling import SMOTE\n",
        "from imblearn.under_sampling import NearMiss\n",
        "from imblearn.combine import SMOTEENN\n",
        "from imblearn.pipeline import Pipeline\n",
        "\n",
        "from sklearn.dummy import DummyClassifier\n",
        "from sklearn.tree import DecisionTreeClassifier\n",
        "from sklearn.tree import plot_tree\n",
        "from sklearn.ensemble import RandomForestClassifier\n",
        "from sklearn.neighbors import KNeighborsClassifier\n",
        "from sklearn.linear_model import LogisticRegression\n",
        "\n",
        "\n",
        "\n",
        "import pickle"
      ],
      "metadata": {
        "id": "LdUel6SAExk5"
      },
      "execution_count": 155,
      "outputs": []
    },
    {
      "cell_type": "markdown",
      "source": [
        "# Aula 1"
      ],
      "metadata": {
        "id": "fbQaJ7XHqd2p"
      }
    },
    {
      "cell_type": "markdown",
      "source": [
        "### Desafio 1\n",
        "\n",
        "Faça a leitura da base de dados de diabetes e realize a divisão dos dados em variáveis explicativas e variável alvo (x e y)."
      ],
      "metadata": {
        "id": "XXpTDkQmqgGT"
      }
    },
    {
      "cell_type": "code",
      "source": [
        "url = 'https://raw.githubusercontent.com/mauricioaalmeida/ONE-ML/refs/heads/main/data/diabetes.csv'\n",
        "dados = pd.read_csv(url)"
      ],
      "metadata": {
        "id": "o-clr688LDl2"
      },
      "execution_count": 156,
      "outputs": []
    },
    {
      "cell_type": "code",
      "source": [
        "dados.head()"
      ],
      "metadata": {
        "colab": {
          "base_uri": "https://localhost:8080/",
          "height": 206
        },
        "id": "iN5fFrr7E75F",
        "outputId": "a44a8c6f-a565-42bd-bd5e-03325c1bdd70"
      },
      "execution_count": 157,
      "outputs": [
        {
          "output_type": "execute_result",
          "data": {
            "text/plain": [
              "   glicemia  pressao_sanguinea  dobra_cutane_triceps  insulina    imc  \\\n",
              "0        66                 23                    94      28.1  0.167   \n",
              "1        40                 35                   168      43.1  2.288   \n",
              "2        50                 32                    88      31.0  0.248   \n",
              "3        70                 45                   543      30.5  0.158   \n",
              "4        60                 23                   846      30.1  0.398   \n",
              "\n",
              "   diabetes  \n",
              "0         0  \n",
              "1         1  \n",
              "2         1  \n",
              "3         1  \n",
              "4         1  "
            ],
            "text/html": [
              "\n",
              "  <div id=\"df-f406295e-e5f2-49ac-ae62-a7c532b367ce\" class=\"colab-df-container\">\n",
              "    <div>\n",
              "<style scoped>\n",
              "    .dataframe tbody tr th:only-of-type {\n",
              "        vertical-align: middle;\n",
              "    }\n",
              "\n",
              "    .dataframe tbody tr th {\n",
              "        vertical-align: top;\n",
              "    }\n",
              "\n",
              "    .dataframe thead th {\n",
              "        text-align: right;\n",
              "    }\n",
              "</style>\n",
              "<table border=\"1\" class=\"dataframe\">\n",
              "  <thead>\n",
              "    <tr style=\"text-align: right;\">\n",
              "      <th></th>\n",
              "      <th>glicemia</th>\n",
              "      <th>pressao_sanguinea</th>\n",
              "      <th>dobra_cutane_triceps</th>\n",
              "      <th>insulina</th>\n",
              "      <th>imc</th>\n",
              "      <th>diabetes</th>\n",
              "    </tr>\n",
              "  </thead>\n",
              "  <tbody>\n",
              "    <tr>\n",
              "      <th>0</th>\n",
              "      <td>66</td>\n",
              "      <td>23</td>\n",
              "      <td>94</td>\n",
              "      <td>28.1</td>\n",
              "      <td>0.167</td>\n",
              "      <td>0</td>\n",
              "    </tr>\n",
              "    <tr>\n",
              "      <th>1</th>\n",
              "      <td>40</td>\n",
              "      <td>35</td>\n",
              "      <td>168</td>\n",
              "      <td>43.1</td>\n",
              "      <td>2.288</td>\n",
              "      <td>1</td>\n",
              "    </tr>\n",
              "    <tr>\n",
              "      <th>2</th>\n",
              "      <td>50</td>\n",
              "      <td>32</td>\n",
              "      <td>88</td>\n",
              "      <td>31.0</td>\n",
              "      <td>0.248</td>\n",
              "      <td>1</td>\n",
              "    </tr>\n",
              "    <tr>\n",
              "      <th>3</th>\n",
              "      <td>70</td>\n",
              "      <td>45</td>\n",
              "      <td>543</td>\n",
              "      <td>30.5</td>\n",
              "      <td>0.158</td>\n",
              "      <td>1</td>\n",
              "    </tr>\n",
              "    <tr>\n",
              "      <th>4</th>\n",
              "      <td>60</td>\n",
              "      <td>23</td>\n",
              "      <td>846</td>\n",
              "      <td>30.1</td>\n",
              "      <td>0.398</td>\n",
              "      <td>1</td>\n",
              "    </tr>\n",
              "  </tbody>\n",
              "</table>\n",
              "</div>\n",
              "    <div class=\"colab-df-buttons\">\n",
              "\n",
              "  <div class=\"colab-df-container\">\n",
              "    <button class=\"colab-df-convert\" onclick=\"convertToInteractive('df-f406295e-e5f2-49ac-ae62-a7c532b367ce')\"\n",
              "            title=\"Convert this dataframe to an interactive table.\"\n",
              "            style=\"display:none;\">\n",
              "\n",
              "  <svg xmlns=\"http://www.w3.org/2000/svg\" height=\"24px\" viewBox=\"0 -960 960 960\">\n",
              "    <path d=\"M120-120v-720h720v720H120Zm60-500h600v-160H180v160Zm220 220h160v-160H400v160Zm0 220h160v-160H400v160ZM180-400h160v-160H180v160Zm440 0h160v-160H620v160ZM180-180h160v-160H180v160Zm440 0h160v-160H620v160Z\"/>\n",
              "  </svg>\n",
              "    </button>\n",
              "\n",
              "  <style>\n",
              "    .colab-df-container {\n",
              "      display:flex;\n",
              "      gap: 12px;\n",
              "    }\n",
              "\n",
              "    .colab-df-convert {\n",
              "      background-color: #E8F0FE;\n",
              "      border: none;\n",
              "      border-radius: 50%;\n",
              "      cursor: pointer;\n",
              "      display: none;\n",
              "      fill: #1967D2;\n",
              "      height: 32px;\n",
              "      padding: 0 0 0 0;\n",
              "      width: 32px;\n",
              "    }\n",
              "\n",
              "    .colab-df-convert:hover {\n",
              "      background-color: #E2EBFA;\n",
              "      box-shadow: 0px 1px 2px rgba(60, 64, 67, 0.3), 0px 1px 3px 1px rgba(60, 64, 67, 0.15);\n",
              "      fill: #174EA6;\n",
              "    }\n",
              "\n",
              "    .colab-df-buttons div {\n",
              "      margin-bottom: 4px;\n",
              "    }\n",
              "\n",
              "    [theme=dark] .colab-df-convert {\n",
              "      background-color: #3B4455;\n",
              "      fill: #D2E3FC;\n",
              "    }\n",
              "\n",
              "    [theme=dark] .colab-df-convert:hover {\n",
              "      background-color: #434B5C;\n",
              "      box-shadow: 0px 1px 3px 1px rgba(0, 0, 0, 0.15);\n",
              "      filter: drop-shadow(0px 1px 2px rgba(0, 0, 0, 0.3));\n",
              "      fill: #FFFFFF;\n",
              "    }\n",
              "  </style>\n",
              "\n",
              "    <script>\n",
              "      const buttonEl =\n",
              "        document.querySelector('#df-f406295e-e5f2-49ac-ae62-a7c532b367ce button.colab-df-convert');\n",
              "      buttonEl.style.display =\n",
              "        google.colab.kernel.accessAllowed ? 'block' : 'none';\n",
              "\n",
              "      async function convertToInteractive(key) {\n",
              "        const element = document.querySelector('#df-f406295e-e5f2-49ac-ae62-a7c532b367ce');\n",
              "        const dataTable =\n",
              "          await google.colab.kernel.invokeFunction('convertToInteractive',\n",
              "                                                    [key], {});\n",
              "        if (!dataTable) return;\n",
              "\n",
              "        const docLinkHtml = 'Like what you see? Visit the ' +\n",
              "          '<a target=\"_blank\" href=https://colab.research.google.com/notebooks/data_table.ipynb>data table notebook</a>'\n",
              "          + ' to learn more about interactive tables.';\n",
              "        element.innerHTML = '';\n",
              "        dataTable['output_type'] = 'display_data';\n",
              "        await google.colab.output.renderOutput(dataTable, element);\n",
              "        const docLink = document.createElement('div');\n",
              "        docLink.innerHTML = docLinkHtml;\n",
              "        element.appendChild(docLink);\n",
              "      }\n",
              "    </script>\n",
              "  </div>\n",
              "\n",
              "\n",
              "    <div id=\"df-6183a3a6-3158-4f11-8b81-f06cb7e02ca9\">\n",
              "      <button class=\"colab-df-quickchart\" onclick=\"quickchart('df-6183a3a6-3158-4f11-8b81-f06cb7e02ca9')\"\n",
              "                title=\"Suggest charts\"\n",
              "                style=\"display:none;\">\n",
              "\n",
              "<svg xmlns=\"http://www.w3.org/2000/svg\" height=\"24px\"viewBox=\"0 0 24 24\"\n",
              "     width=\"24px\">\n",
              "    <g>\n",
              "        <path d=\"M19 3H5c-1.1 0-2 .9-2 2v14c0 1.1.9 2 2 2h14c1.1 0 2-.9 2-2V5c0-1.1-.9-2-2-2zM9 17H7v-7h2v7zm4 0h-2V7h2v10zm4 0h-2v-4h2v4z\"/>\n",
              "    </g>\n",
              "</svg>\n",
              "      </button>\n",
              "\n",
              "<style>\n",
              "  .colab-df-quickchart {\n",
              "      --bg-color: #E8F0FE;\n",
              "      --fill-color: #1967D2;\n",
              "      --hover-bg-color: #E2EBFA;\n",
              "      --hover-fill-color: #174EA6;\n",
              "      --disabled-fill-color: #AAA;\n",
              "      --disabled-bg-color: #DDD;\n",
              "  }\n",
              "\n",
              "  [theme=dark] .colab-df-quickchart {\n",
              "      --bg-color: #3B4455;\n",
              "      --fill-color: #D2E3FC;\n",
              "      --hover-bg-color: #434B5C;\n",
              "      --hover-fill-color: #FFFFFF;\n",
              "      --disabled-bg-color: #3B4455;\n",
              "      --disabled-fill-color: #666;\n",
              "  }\n",
              "\n",
              "  .colab-df-quickchart {\n",
              "    background-color: var(--bg-color);\n",
              "    border: none;\n",
              "    border-radius: 50%;\n",
              "    cursor: pointer;\n",
              "    display: none;\n",
              "    fill: var(--fill-color);\n",
              "    height: 32px;\n",
              "    padding: 0;\n",
              "    width: 32px;\n",
              "  }\n",
              "\n",
              "  .colab-df-quickchart:hover {\n",
              "    background-color: var(--hover-bg-color);\n",
              "    box-shadow: 0 1px 2px rgba(60, 64, 67, 0.3), 0 1px 3px 1px rgba(60, 64, 67, 0.15);\n",
              "    fill: var(--button-hover-fill-color);\n",
              "  }\n",
              "\n",
              "  .colab-df-quickchart-complete:disabled,\n",
              "  .colab-df-quickchart-complete:disabled:hover {\n",
              "    background-color: var(--disabled-bg-color);\n",
              "    fill: var(--disabled-fill-color);\n",
              "    box-shadow: none;\n",
              "  }\n",
              "\n",
              "  .colab-df-spinner {\n",
              "    border: 2px solid var(--fill-color);\n",
              "    border-color: transparent;\n",
              "    border-bottom-color: var(--fill-color);\n",
              "    animation:\n",
              "      spin 1s steps(1) infinite;\n",
              "  }\n",
              "\n",
              "  @keyframes spin {\n",
              "    0% {\n",
              "      border-color: transparent;\n",
              "      border-bottom-color: var(--fill-color);\n",
              "      border-left-color: var(--fill-color);\n",
              "    }\n",
              "    20% {\n",
              "      border-color: transparent;\n",
              "      border-left-color: var(--fill-color);\n",
              "      border-top-color: var(--fill-color);\n",
              "    }\n",
              "    30% {\n",
              "      border-color: transparent;\n",
              "      border-left-color: var(--fill-color);\n",
              "      border-top-color: var(--fill-color);\n",
              "      border-right-color: var(--fill-color);\n",
              "    }\n",
              "    40% {\n",
              "      border-color: transparent;\n",
              "      border-right-color: var(--fill-color);\n",
              "      border-top-color: var(--fill-color);\n",
              "    }\n",
              "    60% {\n",
              "      border-color: transparent;\n",
              "      border-right-color: var(--fill-color);\n",
              "    }\n",
              "    80% {\n",
              "      border-color: transparent;\n",
              "      border-right-color: var(--fill-color);\n",
              "      border-bottom-color: var(--fill-color);\n",
              "    }\n",
              "    90% {\n",
              "      border-color: transparent;\n",
              "      border-bottom-color: var(--fill-color);\n",
              "    }\n",
              "  }\n",
              "</style>\n",
              "\n",
              "      <script>\n",
              "        async function quickchart(key) {\n",
              "          const quickchartButtonEl =\n",
              "            document.querySelector('#' + key + ' button');\n",
              "          quickchartButtonEl.disabled = true;  // To prevent multiple clicks.\n",
              "          quickchartButtonEl.classList.add('colab-df-spinner');\n",
              "          try {\n",
              "            const charts = await google.colab.kernel.invokeFunction(\n",
              "                'suggestCharts', [key], {});\n",
              "          } catch (error) {\n",
              "            console.error('Error during call to suggestCharts:', error);\n",
              "          }\n",
              "          quickchartButtonEl.classList.remove('colab-df-spinner');\n",
              "          quickchartButtonEl.classList.add('colab-df-quickchart-complete');\n",
              "        }\n",
              "        (() => {\n",
              "          let quickchartButtonEl =\n",
              "            document.querySelector('#df-6183a3a6-3158-4f11-8b81-f06cb7e02ca9 button');\n",
              "          quickchartButtonEl.style.display =\n",
              "            google.colab.kernel.accessAllowed ? 'block' : 'none';\n",
              "        })();\n",
              "      </script>\n",
              "    </div>\n",
              "\n",
              "    </div>\n",
              "  </div>\n"
            ],
            "application/vnd.google.colaboratory.intrinsic+json": {
              "type": "dataframe",
              "variable_name": "dados",
              "summary": "{\n  \"name\": \"dados\",\n  \"rows\": 394,\n  \"fields\": [\n    {\n      \"column\": \"glicemia\",\n      \"properties\": {\n        \"dtype\": \"number\",\n        \"std\": 12,\n        \"min\": 24,\n        \"max\": 110,\n        \"num_unique_values\": 37,\n        \"samples\": [\n          68,\n          64,\n          60\n        ],\n        \"semantic_type\": \"\",\n        \"description\": \"\"\n      }\n    },\n    {\n      \"column\": \"pressao_sanguinea\",\n      \"properties\": {\n        \"dtype\": \"number\",\n        \"std\": 10,\n        \"min\": 7,\n        \"max\": 63,\n        \"num_unique_values\": 48,\n        \"samples\": [\n          51,\n          52,\n          18\n        ],\n        \"semantic_type\": \"\",\n        \"description\": \"\"\n      }\n    },\n    {\n      \"column\": \"dobra_cutane_triceps\",\n      \"properties\": {\n        \"dtype\": \"number\",\n        \"std\": 118,\n        \"min\": 14,\n        \"max\": 846,\n        \"num_unique_values\": 185,\n        \"samples\": [\n          240,\n          18,\n          274\n        ],\n        \"semantic_type\": \"\",\n        \"description\": \"\"\n      }\n    },\n    {\n      \"column\": \"insulina\",\n      \"properties\": {\n        \"dtype\": \"number\",\n        \"std\": 7.210160099590896,\n        \"min\": 0.0,\n        \"max\": 67.1,\n        \"num_unique_values\": 195,\n        \"samples\": [\n          42.1,\n          24.0,\n          46.1\n        ],\n        \"semantic_type\": \"\",\n        \"description\": \"\"\n      }\n    },\n    {\n      \"column\": \"imc\",\n      \"properties\": {\n        \"dtype\": \"number\",\n        \"std\": 0.3501269481387728,\n        \"min\": 0.085,\n        \"max\": 2.42,\n        \"num_unique_values\": 332,\n        \"samples\": [\n          0.962,\n          0.251,\n          0.229\n        ],\n        \"semantic_type\": \"\",\n        \"description\": \"\"\n      }\n    },\n    {\n      \"column\": \"diabetes\",\n      \"properties\": {\n        \"dtype\": \"number\",\n        \"std\": 0,\n        \"min\": 0,\n        \"max\": 1,\n        \"num_unique_values\": 2,\n        \"samples\": [\n          1,\n          0\n        ],\n        \"semantic_type\": \"\",\n        \"description\": \"\"\n      }\n    }\n  ]\n}"
            }
          },
          "metadata": {},
          "execution_count": 157
        }
      ]
    },
    {
      "cell_type": "code",
      "source": [
        "dados.info()"
      ],
      "metadata": {
        "colab": {
          "base_uri": "https://localhost:8080/"
        },
        "id": "YKKbI04ME-in",
        "outputId": "e34e1d17-268d-41db-d2c9-7d05a9bbc097"
      },
      "execution_count": 158,
      "outputs": [
        {
          "output_type": "stream",
          "name": "stdout",
          "text": [
            "<class 'pandas.core.frame.DataFrame'>\n",
            "RangeIndex: 394 entries, 0 to 393\n",
            "Data columns (total 6 columns):\n",
            " #   Column                Non-Null Count  Dtype  \n",
            "---  ------                --------------  -----  \n",
            " 0   glicemia              394 non-null    int64  \n",
            " 1   pressao_sanguinea     394 non-null    int64  \n",
            " 2   dobra_cutane_triceps  394 non-null    int64  \n",
            " 3   insulina              394 non-null    float64\n",
            " 4   imc                   394 non-null    float64\n",
            " 5   diabetes              394 non-null    int64  \n",
            "dtypes: float64(2), int64(4)\n",
            "memory usage: 18.6 KB\n"
          ]
        }
      ]
    },
    {
      "cell_type": "code",
      "source": [
        "colunas = dados.columns.tolist()\n",
        "col_categoricas = dados.select_dtypes(include=['object']).columns.tolist()\n",
        "col_numericas = dados.select_dtypes(include=['number']).columns.tolist()\n",
        "col_alvo='diabetes'\n",
        "colunas.remove(col_alvo)\n",
        "print (col_categoricas)\n",
        "print (col_numericas)"
      ],
      "metadata": {
        "colab": {
          "base_uri": "https://localhost:8080/"
        },
        "id": "dr3L_dMjFC4P",
        "outputId": "5d919bc2-75bb-46a8-9fc3-c8e97b8be8e9"
      },
      "execution_count": 159,
      "outputs": [
        {
          "output_type": "stream",
          "name": "stdout",
          "text": [
            "[]\n",
            "['glicemia', 'pressao_sanguinea', 'dobra_cutane_triceps', 'insulina', 'imc', 'diabetes']\n"
          ]
        }
      ]
    },
    {
      "cell_type": "markdown",
      "source": [
        "### Desafio 2\n",
        "\n",
        "Realize a divisão dos dados entre treino e teste."
      ],
      "metadata": {
        "id": "dn6U1p70qw7p"
      }
    },
    {
      "cell_type": "code",
      "source": [
        "x = dados.drop(col_alvo, axis=1)\n",
        "y = dados[col_alvo]"
      ],
      "metadata": {
        "id": "AKqvmM8QXkHW"
      },
      "execution_count": 160,
      "outputs": []
    },
    {
      "cell_type": "code",
      "source": [
        "x, x_test, y, y_test = train_test_split(x, y, test_size=0.05, stratify=y, random_state=5)\n",
        "x_train, x_val, y_train, y_val = train_test_split(x, y, test_size=0.25, stratify=y, random_state=5)"
      ],
      "metadata": {
        "id": "zscq8vkoFMLa"
      },
      "execution_count": 161,
      "outputs": []
    },
    {
      "cell_type": "markdown",
      "source": [
        "### Desafio 3\n",
        "\n",
        "Crie 2 modelos utilizando os algoritmos [DecisionTreeClassifier](https://scikit-learn.org/stable/modules/generated/sklearn.tree.DecisionTreeClassifier.html) e [RandomForestClassifer](https://scikit-learn.org/stable/modules/generated/sklearn.ensemble.RandomForestClassifier.html) e avalie a acurácia de treino e teste, escolhendo valores para o parâmetro `max_depth` para os modelos não se especializarem demais no padrão dos dados de treino."
      ],
      "metadata": {
        "id": "IcmuQBIyxHc8"
      }
    },
    {
      "cell_type": "code",
      "source": [
        "tree = DecisionTreeClassifier(max_depth=3)\n",
        "tree.fit(x_train, y_train)\n",
        "print(f'Acurácia no conjunto de treino : {tree.score(x_train, y_train)*100:.4f}%')\n",
        "print(f'Acurácia no conjunto de valid  : {tree.score(x_val, y_val)*100:.4f}%')"
      ],
      "metadata": {
        "id": "YPeQmyV1YhwA",
        "colab": {
          "base_uri": "https://localhost:8080/"
        },
        "outputId": "b0bac71d-2574-445c-f167-f474a8f01b25"
      },
      "execution_count": 162,
      "outputs": [
        {
          "output_type": "stream",
          "name": "stdout",
          "text": [
            "Acurácia no conjunto de treino : 75.7143%\n",
            "Acurácia no conjunto de valid  : 77.6596%\n"
          ]
        }
      ]
    },
    {
      "cell_type": "code",
      "source": [
        "modelo_rf = RandomForestClassifier(max_depth = 2)\n",
        "modelo_rf.fit(x_train, y_train)\n",
        "print(f'Acurácia no conjunto de treino : {modelo_rf.score(x_train, y_train)*100:.4f}%')\n",
        "print(f'Acurácia no conjunto de valid  : {modelo_rf.score(x_val, y_val)*100:.4f}%')"
      ],
      "metadata": {
        "colab": {
          "base_uri": "https://localhost:8080/"
        },
        "id": "q5vxpY_aFTIl",
        "outputId": "fe6798cd-dba4-4fba-9a0f-cf9c1c33a7f4"
      },
      "execution_count": 163,
      "outputs": [
        {
          "output_type": "stream",
          "name": "stdout",
          "text": [
            "Acurácia no conjunto de treino : 72.8571%\n",
            "Acurácia no conjunto de valid  : 71.2766%\n"
          ]
        }
      ]
    },
    {
      "cell_type": "markdown",
      "source": [
        "### Desafio 4\n",
        "\n",
        "Construa uma matriz de confusão para cada um dos modelos para avaliar o desempenho das previsões."
      ],
      "metadata": {
        "id": "luUySRh5xNL1"
      }
    },
    {
      "cell_type": "code",
      "source": [
        "col_result = ['Diabetico','Não diabetico']"
      ],
      "metadata": {
        "id": "subhNpo_GDmF"
      },
      "execution_count": 164,
      "outputs": []
    },
    {
      "cell_type": "code",
      "source": [
        "y_previsto_tree = tree.predict(x_val)\n",
        "matriz_confusao_tree = confusion_matrix(y_val, y_previsto_tree)\n",
        "visualizacao = ConfusionMatrixDisplay(confusion_matrix=matriz_confusao_tree, display_labels=col_result)\n",
        "visualizacao.plot();"
      ],
      "metadata": {
        "colab": {
          "base_uri": "https://localhost:8080/",
          "height": 449
        },
        "id": "T9RZkqoVFuLf",
        "outputId": "65b16922-ed67-4958-dff4-0a3baa909c13"
      },
      "execution_count": 165,
      "outputs": [
        {
          "output_type": "display_data",
          "data": {
            "text/plain": [
              "<Figure size 640x480 with 2 Axes>"
            ],
            "image/png": "[encoded data removed]"
          },
          "metadata": {}
        }
      ]
    },
    {
      "cell_type": "code",
      "source": [
        "y_previsto_rf = modelo_rf.predict(x_val)\n",
        "matriz_confusao_rf = confusion_matrix(y_val, y_previsto_rf)\n",
        "visualizacao = ConfusionMatrixDisplay(confusion_matrix=matriz_confusao_rf, display_labels=col_result)\n",
        "visualizacao.plot();"
      ],
      "metadata": {
        "id": "_sufI0QkZKvu",
        "colab": {
          "base_uri": "https://localhost:8080/",
          "height": 449
        },
        "outputId": "ef9ddecd-97f0-43b3-b1c3-d3cc703489e6"
      },
      "execution_count": 166,
      "outputs": [
        {
          "output_type": "display_data",
          "data": {
            "text/plain": [
              "<Figure size 640x480 with 2 Axes>"
            ],
            "image/png": "[encoded data removed]"
          },
          "metadata": {}
        }
      ]
    },
    {
      "cell_type": "markdown",
      "source": [
        "# Aula 2"
      ],
      "metadata": {
        "id": "dQtdWeLPZ2qI"
      }
    },
    {
      "cell_type": "markdown",
      "source": [
        "### Desafio 1\n",
        "\n",
        "Extraia as métricas acurácia, recall, precisão e F1-Score dos modelos de classificação gerados no desafio da aula 1."
      ],
      "metadata": {
        "id": "j3gbWXPaZ6b_"
      }
    },
    {
      "cell_type": "code",
      "source": [
        "print(f'Acurácia : {accuracy_score(y_val, y_previsto_tree)*100:.4f}%')\n",
        "print(f'Recall    : {recall_score(y_val, y_previsto_tree)*100:.4f}%')\n",
        "print(f'Precisão  : {precision_score(y_val, y_previsto_tree)*100:.4f}%')\n",
        "print(f'F1-Score  : {f1_score(y_val, y_previsto_tree)*100:.4f}%')"
      ],
      "metadata": {
        "id": "b-TqlLAeaKNH",
        "colab": {
          "base_uri": "https://localhost:8080/"
        },
        "outputId": "25bc2dc0-3d3d-4501-e3f1-43459fa89145"
      },
      "execution_count": 167,
      "outputs": [
        {
          "output_type": "stream",
          "name": "stdout",
          "text": [
            "Acurácia : 77.6596%\n",
            "Recall    : 67.7419%\n",
            "Precisão  : 65.6250%\n",
            "F1-Score  : 66.6667%\n"
          ]
        }
      ]
    },
    {
      "cell_type": "markdown",
      "source": [
        "### Desafio 2\n",
        "\n",
        "Obtenha a curva ROC e a métrica AUC dos modelos de classificação gerados no desafio da aula 1, comparando as curvas no mesmo gráfico.\n",
        "\n",
        "*Como uma dica, vasculhe a documentação do `Scikit-learn` a partir deste [link](https://scikit-learn.org/stable/auto_examples/release_highlights/plot_release_highlights_0_22_0.html#new-plotting-api) e verifique uma forma de apresentar os resultados das curvas no mesmo gráfico usando o matplotlib*"
      ],
      "metadata": {
        "id": "Iy6nX8iQZ_JJ"
      }
    },
    {
      "cell_type": "code",
      "source": [
        "fig, ax = plt.subplots()\n",
        "RocCurveDisplay.from_predictions(y_val, y_previsto_tree, name = 'Árvore de Decisão', ax=ax)\n",
        "RocCurveDisplay.from_predictions(y_val, y_previsto_rf, name = 'Random Forest', ax=ax)\n",
        "plt.show()"
      ],
      "metadata": {
        "id": "CBfg1CYkdUFr",
        "colab": {
          "base_uri": "https://localhost:8080/",
          "height": 451
        },
        "outputId": "524563e2-0884-4251-ad5d-f47e55381ba8"
      },
      "execution_count": 168,
      "outputs": [
        {
          "output_type": "display_data",
          "data": {
            "text/plain": [
              "<Figure size 640x480 with 1 Axes>"
            ],
            "image/png": "[encoded data removed]"
          },
          "metadata": {}
        }
      ]
    },
    {
      "cell_type": "markdown",
      "source": [
        "### Desafio 3\n",
        "\n",
        "Obtenha a curva precisão x recall e a métrica AP dos modelos de classificação gerados no desafio da aula 1, comparando as curvas no mesmo gráfico.\n",
        "\n",
        "*Como uma dica, vasculhe a documentação do `Scikit-learn` a partir deste [link](https://scikit-learn.org/stable/auto_examples/release_highlights/plot_release_highlights_0_22_0.html#new-plotting-api) e verifique uma forma de apresentar os resultados das curvas no mesmo gráfico usando o matplotlib*"
      ],
      "metadata": {
        "id": "MtAISYmrZ_VR"
      }
    },
    {
      "cell_type": "code",
      "source": [
        "fig, ax = plt.subplots()\n",
        "PrecisionRecallDisplay.from_predictions(y_val, y_previsto_tree, name = 'Árvore de Decisão', ax=ax)\n",
        "PrecisionRecallDisplay.from_predictions(y_val, y_previsto_rf, name = 'Random Forest', ax=ax)\n",
        "plt.legend(loc = 'upper right')\n",
        "plt.show()"
      ],
      "metadata": {
        "id": "n5UUgmk4af0I",
        "colab": {
          "base_uri": "https://localhost:8080/",
          "height": 451
        },
        "outputId": "049ee807-337e-422a-ed0e-c05db2363a94"
      },
      "execution_count": 169,
      "outputs": [
        {
          "output_type": "display_data",
          "data": {
            "text/plain": [
              "<Figure size 640x480 with 1 Axes>"
            ],
            "image/png": "[encoded data removed]"
          },
          "metadata": {}
        }
      ]
    },
    {
      "cell_type": "markdown",
      "source": [
        "### Desafio 4\n",
        "\n",
        "Gere os relatórios de métricas dos modelos de classificação gerados no desafio da aula 1."
      ],
      "metadata": {
        "id": "QC-mYuowZ_YO"
      }
    },
    {
      "cell_type": "code",
      "source": [
        "print('Indicador    :   Árvore      |  Random Forest')\n",
        "print('=========================================================')\n",
        "print(f'Acurácia     : {accuracy_score(y_val, y_previsto_tree)*100:8.4f}%     |    {accuracy_score(y_val, y_previsto_rf)*100:8.4f}%')\n",
        "print(f'Recall       : {recall_score(y_val, y_previsto_tree)*100:8.4f}%     |    {recall_score(y_val, y_previsto_rf)*100:8.4f}%')\n",
        "print(f'Precisão     : {precision_score(y_val, y_previsto_tree)*100:8.4f}%     |    {precision_score(y_val, y_previsto_rf)*100:8.4f}%')\n",
        "print(f'F1-Score     : {f1_score(y_val, y_previsto_tree)*100:8.4f}%     |    {f1_score(y_val, y_previsto_rf)*100:8.4f}%')\n",
        "print(f'ROC AUC      : {roc_auc_score(y_val, y_previsto_tree)*100:8.4f}%     |    {roc_auc_score(y_val, y_previsto_rf)*100:8.4f}%')\n",
        "print(f'PR AUC       : {average_precision_score(y_val, y_previsto_tree)*100:8.4f}%     |    {average_precision_score(y_val, y_previsto_rf)*100:8.4f}%')"
      ],
      "metadata": {
        "id": "AZIfQPpJZ3rG",
        "colab": {
          "base_uri": "https://localhost:8080/"
        },
        "outputId": "d35e69fc-1e4d-4329-bf9a-18478edf245f"
      },
      "execution_count": 170,
      "outputs": [
        {
          "output_type": "stream",
          "name": "stdout",
          "text": [
            "Indicador    :   Árvore      |  Random Forest\n",
            "=========================================================\n",
            "Acurácia     :  77.6596%     |     71.2766%\n",
            "Recall       :  67.7419%     |     25.8065%\n",
            "Precisão     :  65.6250%     |     66.6667%\n",
            "F1-Score     :  66.6667%     |     37.2093%\n",
            "ROC AUC      :  75.1408%     |     59.7286%\n",
            "PR AUC       :  55.0939%     |     41.6724%\n"
          ]
        }
      ]
    },
    {
      "cell_type": "code",
      "source": [
        "print(classification_report(y_val, y_previsto_tree))"
      ],
      "metadata": {
        "colab": {
          "base_uri": "https://localhost:8080/"
        },
        "id": "PTTU0k-EXJXr",
        "outputId": "f51281a7-c67c-4520-8246-251427d4243a"
      },
      "execution_count": 171,
      "outputs": [
        {
          "output_type": "stream",
          "name": "stdout",
          "text": [
            "              precision    recall  f1-score   support\n",
            "\n",
            "           0       0.84      0.83      0.83        63\n",
            "           1       0.66      0.68      0.67        31\n",
            "\n",
            "    accuracy                           0.78        94\n",
            "   macro avg       0.75      0.75      0.75        94\n",
            "weighted avg       0.78      0.78      0.78        94\n",
            "\n"
          ]
        }
      ]
    },
    {
      "cell_type": "code",
      "source": [
        "print(classification_report(y_val, y_previsto_rf))"
      ],
      "metadata": {
        "colab": {
          "base_uri": "https://localhost:8080/"
        },
        "id": "n8xrE2FNXF_h",
        "outputId": "b77e9d1a-6831-4d1c-8674-1f806b0686dc"
      },
      "execution_count": 172,
      "outputs": [
        {
          "output_type": "stream",
          "name": "stdout",
          "text": [
            "              precision    recall  f1-score   support\n",
            "\n",
            "           0       0.72      0.94      0.81        63\n",
            "           1       0.67      0.26      0.37        31\n",
            "\n",
            "    accuracy                           0.71        94\n",
            "   macro avg       0.69      0.60      0.59        94\n",
            "weighted avg       0.70      0.71      0.67        94\n",
            "\n"
          ]
        }
      ]
    },
    {
      "cell_type": "markdown",
      "source": [
        "# Aula 3"
      ],
      "metadata": {
        "id": "1uD6CKpmk-ud"
      }
    },
    {
      "cell_type": "markdown",
      "source": [
        "### Desafio 1\n",
        "\n",
        "Crie uma função para calcular o intervalo de confiança dos resultados de uma validação cruzada com 2 desvios padrão. A função precisa ter um parâmetro para receber uma lista com os desempenhos da validação cruzada e outro para apresentar o nome do modelo utilizado na validação cruzada. Exemplo de retorno da função:\n",
        "\n",
        "> Intervalo de confiança (\"nome do modelo\"): [\"valor mínimo do intervalo\", \"valor máximo do intervalo\"]\n",
        "\n"
      ],
      "metadata": {
        "id": "_ksJQ1Ca9Alx"
      }
    },
    {
      "cell_type": "code",
      "source": [
        "def intervalo_conf(resultados,score_list):\n",
        "  r = {}\n",
        "  for score in score_list:\n",
        "    media = resultados[score].mean()\n",
        "    desvio_padrao = resultados[score].std()\n",
        "    r[score] = f'[ {media-2*desvio_padrao:.6f}, {min(media+2*desvio_padrao, 1):.6f} ]'\n",
        "  return r"
      ],
      "metadata": {
        "id": "Bg7Uh6QyTyB5"
      },
      "execution_count": 173,
      "outputs": []
    },
    {
      "cell_type": "markdown",
      "source": [
        "### Desafio 2\n",
        "\n",
        "Avalie o desempenho dos modelos com um intervalo de confiança utilizando a validação cruzada com o método [`KFold`](https://scikit-learn.org/stable/modules/generated/sklearn.model_selection.KFold.html), usando 10 partes e embaralhando os dados antes da separação. Use o método [`cross_val_score`](https://scikit-learn.org/stable/modules/generated/sklearn.model_selection.cross_val_score.html) que não retorna o tempo de execução, apenas as métricas."
      ],
      "metadata": {
        "id": "aA2RAJvGlCM1"
      }
    },
    {
      "cell_type": "code",
      "source": [
        "print('KFold 5 - Modelo Árvore:')\n",
        "modelo_tree = DecisionTreeClassifier(max_depth = 5)\n",
        "kf = KFold(n_splits=5, shuffle=True, random_state=5, )\n",
        "cv_resultados = cross_validate(modelo_tree, x, y, cv=kf, scoring = ('accuracy', 'recall','precision', 'f1', 'roc_auc'))\n",
        "intervalo_conf(cv_resultados,['test_accuracy', 'test_recall','test_precision', 'test_roc_auc','test_f1' ])"
      ],
      "metadata": {
        "colab": {
          "base_uri": "https://localhost:8080/"
        },
        "id": "nc3KaxmeQL9B",
        "outputId": "32015ec7-1a7b-4451-c38f-2cff8297ea15"
      },
      "execution_count": 174,
      "outputs": [
        {
          "output_type": "stream",
          "name": "stdout",
          "text": [
            "KFold 5 - Modelo Árvore:\n"
          ]
        },
        {
          "output_type": "execute_result",
          "data": {
            "text/plain": [
              "{'test_accuracy': '[ 0.613312, 0.734219 ]',\n",
              " 'test_recall': '[ 0.020793, 0.808228 ]',\n",
              " 'test_precision': '[ 0.175414, 1.000000 ]',\n",
              " 'test_roc_auc': '[ 0.570741, 0.834919 ]',\n",
              " 'test_f1': '[ 0.190054, 0.658712 ]'}"
            ]
          },
          "metadata": {},
          "execution_count": 174
        }
      ]
    },
    {
      "cell_type": "code",
      "source": [
        "print('KFold 5 -Modelo Random Forest:')\n",
        "modelo_rf = RandomForestClassifier(max_depth = 5)\n",
        "kf = StratifiedKFold(n_splits=5, shuffle=True, random_state=5, )\n",
        "cv_resultados = cross_validate(modelo_tree, x, y, cv=kf, scoring = ('accuracy', 'recall','precision', 'f1', 'roc_auc'))\n",
        "intervalo_conf(cv_resultados,['test_accuracy', 'test_recall','test_precision', 'test_roc_auc','test_f1' ])"
      ],
      "metadata": {
        "colab": {
          "base_uri": "https://localhost:8080/"
        },
        "id": "UM9wkbh7QsL3",
        "outputId": "394d0f2a-eb0d-49a0-fe34-456b8fe2a72a"
      },
      "execution_count": 175,
      "outputs": [
        {
          "output_type": "stream",
          "name": "stdout",
          "text": [
            "KFold 5 -Modelo Random Forest:\n"
          ]
        },
        {
          "output_type": "execute_result",
          "data": {
            "text/plain": [
              "{'test_accuracy': '[ 0.590130, 0.763095 ]',\n",
              " 'test_recall': '[ 0.043345, 0.803322 ]',\n",
              " 'test_precision': '[ 0.332234, 0.664034 ]',\n",
              " 'test_roc_auc': '[ 0.628915, 0.756874 ]',\n",
              " 'test_f1': '[ 0.176845, 0.710154 ]'}"
            ]
          },
          "metadata": {},
          "execution_count": 175
        }
      ]
    },
    {
      "cell_type": "markdown",
      "source": [
        "### Desafio 3\n",
        "\n",
        "Avalie o desempenho dos modelos com um intervalo de confiança utilizando a validação cruzada (`cross_val_score`) com o método [`StratifiedKFold`](https://scikit-learn.org/stable/modules/generated/sklearn.model_selection.StratifiedKFold.html#sklearn.model_selection.StratifiedKFold), usando 10 partes e embaralhando os dados antes da separação e avaliando a métrica F1-Score."
      ],
      "metadata": {
        "id": "FXHAOmL4lFBp"
      }
    },
    {
      "cell_type": "code",
      "source": [
        "print('StratifiedKFold 10 - Modelo Árvore:')\n",
        "modelo_tree = DecisionTreeClassifier(max_depth = 10)\n",
        "skf = StratifiedKFold(n_splits=5, shuffle=True, random_state=5, )\n",
        "cv_resultados = cross_validate(modelo_tree, x, y, cv=skf, scoring = ('accuracy', 'recall','precision', 'f1', 'roc_auc'))\n",
        "intervalo_conf(cv_resultados,['test_accuracy', 'test_recall','test_precision', 'test_roc_auc','test_f1' ])"
      ],
      "metadata": {
        "id": "QeAunVFjnSOi",
        "colab": {
          "base_uri": "https://localhost:8080/"
        },
        "outputId": "2656a2d1-07d5-4249-b479-bc233531281e"
      },
      "execution_count": 176,
      "outputs": [
        {
          "output_type": "stream",
          "name": "stdout",
          "text": [
            "StratifiedKFold 10 - Modelo Árvore:\n"
          ]
        },
        {
          "output_type": "execute_result",
          "data": {
            "text/plain": [
              "{'test_accuracy': '[ 0.572059, 0.738355 ]',\n",
              " 'test_recall': '[ 0.243934, 0.618066 ]',\n",
              " 'test_precision': '[ 0.348887, 0.598677 ]',\n",
              " 'test_roc_auc': '[ 0.526285, 0.708495 ]',\n",
              " 'test_f1': '[ 0.301201, 0.594809 ]'}"
            ]
          },
          "metadata": {},
          "execution_count": 176
        }
      ]
    },
    {
      "cell_type": "code",
      "source": [
        "\n",
        "print('StratifiedKFold 10 - Modelo Random Forest:')\n",
        "modelo_rf = RandomForestClassifier(max_depth = 10)\n",
        "skf = StratifiedKFold(n_splits=5, shuffle=True, random_state=5, )\n",
        "cv_resultados = cross_validate(modelo_tree, x, y, cv=skf, scoring = ('accuracy', 'recall','precision', 'f1', 'roc_auc'))\n",
        "intervalo_conf(cv_resultados,['test_accuracy', 'test_recall','test_precision', 'test_roc_auc','test_f1' ])"
      ],
      "metadata": {
        "id": "1jp9GpFwnR3i",
        "colab": {
          "base_uri": "https://localhost:8080/"
        },
        "outputId": "a74e48d4-7b14-40e8-90fe-a30be2f9368e"
      },
      "execution_count": 177,
      "outputs": [
        {
          "output_type": "stream",
          "name": "stdout",
          "text": [
            "StratifiedKFold 10 - Modelo Random Forest:\n"
          ]
        },
        {
          "output_type": "execute_result",
          "data": {
            "text/plain": [
              "{'test_accuracy': '[ 0.583004, 0.748744 ]',\n",
              " 'test_recall': '[ 0.246396, 0.647604 ]',\n",
              " 'test_precision': '[ 0.377490, 0.611741 ]',\n",
              " 'test_roc_auc': '[ 0.539696, 0.722621 ]',\n",
              " 'test_f1': '[ 0.318995, 0.608713 ]'}"
            ]
          },
          "metadata": {},
          "execution_count": 177
        }
      ]
    },
    {
      "cell_type": "markdown",
      "source": [
        "### Desafio 4\n",
        "\n",
        "Avalie o desempenho dos modelos utilizando a validação cruzada (`cross_val_score`) com o método [`LeaveOneOut`](https://scikit-learn.org/stable/modules/generated/sklearn.model_selection.LeaveOneOut.html).\n",
        "\n",
        "O método LeaveOneOut vai gerar um modelo para cada uma das linhas da base de dados, portanto a lista de resultados terá taxa de acerto apenas de 0 ou 1 para cada modelo. Dessa forma, extraia apenas a média do resultado, sem utilizar o intervalo de confiança.\n"
      ],
      "metadata": {
        "id": "PffR585slFHS"
      }
    },
    {
      "cell_type": "code",
      "source": [
        "print('StratifiedKFold 10 - Modelo Árvore:')\n",
        "modelo_tree = DecisionTreeClassifier(max_depth = 10)\n",
        "loo = LeaveOneOut()\n",
        "cv_resultados = cross_validate(modelo_tree, x, y, cv=loo)\n",
        "print(f'Acurácia média: {cv_resultados[\"test_score\"].mean():.6f}')"
      ],
      "metadata": {
        "id": "2Fu1i0l9T2F5",
        "colab": {
          "base_uri": "https://localhost:8080/"
        },
        "outputId": "a8a051f8-7d1e-477d-bf43-12dae8ea489d"
      },
      "execution_count": 178,
      "outputs": [
        {
          "output_type": "stream",
          "name": "stdout",
          "text": [
            "StratifiedKFold 10 - Modelo Árvore:\n",
            "Acurácia média: 0.652406\n"
          ]
        }
      ]
    },
    {
      "cell_type": "code",
      "source": [
        "print('StratifiedKFold 10 - Modelo Random Forest:')\n",
        "modelo_rf = RandomForestClassifier(max_depth = 10)\n",
        "loo = LeaveOneOut()\n",
        "cv_resultados = cross_validate(modelo_rf, x, y, cv=loo)\n",
        "print(f'Acurácia média: {cv_resultados[\"test_score\"].mean():.6f}')"
      ],
      "metadata": {
        "colab": {
          "base_uri": "https://localhost:8080/"
        },
        "id": "udKXlnYPVT69",
        "outputId": "12c06187-4c86-4a7c-d754-b59aa4653174"
      },
      "execution_count": 179,
      "outputs": [
        {
          "output_type": "stream",
          "name": "stdout",
          "text": [
            "StratifiedKFold 10 - Modelo Random Forest:\n",
            "Acurácia média: 0.687166\n"
          ]
        }
      ]
    },
    {
      "cell_type": "markdown",
      "source": [
        "# Aula 4"
      ],
      "metadata": {
        "id": "LkuY1LZDJnnE"
      }
    },
    {
      "cell_type": "markdown",
      "source": [
        "### Desafio 1\n",
        "\n",
        "Verifique a proporção de dados da variável alvo do conjunto de dados de diabetes. Essa análise pode ser feita a partir da porcentagem de dados ou com a utilização de um gráfico de contagem para entender se há um desbalanceamento de dados."
      ],
      "metadata": {
        "id": "8H-XGS58Jo97"
      }
    },
    {
      "cell_type": "code",
      "source": [
        "y.value_counts(normalize=True)"
      ],
      "metadata": {
        "colab": {
          "base_uri": "https://localhost:8080/",
          "height": 178
        },
        "id": "hbyjzI6eB1Cz",
        "outputId": "7089e268-328b-44cd-a49b-4414f812c1fb"
      },
      "execution_count": 180,
      "outputs": [
        {
          "output_type": "execute_result",
          "data": {
            "text/plain": [
              "diabetes\n",
              "0    0.671123\n",
              "1    0.328877\n",
              "Name: proportion, dtype: float64"
            ],
            "text/html": [
              "<div>\n",
              "<style scoped>\n",
              "    .dataframe tbody tr th:only-of-type {\n",
              "        vertical-align: middle;\n",
              "    }\n",
              "\n",
              "    .dataframe tbody tr th {\n",
              "        vertical-align: top;\n",
              "    }\n",
              "\n",
              "    .dataframe thead th {\n",
              "        text-align: right;\n",
              "    }\n",
              "</style>\n",
              "<table border=\"1\" class=\"dataframe\">\n",
              "  <thead>\n",
              "    <tr style=\"text-align: right;\">\n",
              "      <th></th>\n",
              "      <th>proportion</th>\n",
              "    </tr>\n",
              "    <tr>\n",
              "      <th>diabetes</th>\n",
              "      <th></th>\n",
              "    </tr>\n",
              "  </thead>\n",
              "  <tbody>\n",
              "    <tr>\n",
              "      <th>0</th>\n",
              "      <td>0.671123</td>\n",
              "    </tr>\n",
              "    <tr>\n",
              "      <th>1</th>\n",
              "      <td>0.328877</td>\n",
              "    </tr>\n",
              "  </tbody>\n",
              "</table>\n",
              "</div><br><label><b>dtype:</b> float64</label>"
            ]
          },
          "metadata": {},
          "execution_count": 180
        }
      ]
    },
    {
      "cell_type": "code",
      "source": [
        "oversample = SMOTE()\n",
        "x_bal, y_bal = oversample.fit_resample(x,y)\n",
        "y_bal.value_counts(normalize=True)"
      ],
      "metadata": {
        "id": "ymR1fC95T2l5",
        "colab": {
          "base_uri": "https://localhost:8080/",
          "height": 178
        },
        "outputId": "71ab96e7-d05c-497f-af97-d96ef7d9d1eb"
      },
      "execution_count": 181,
      "outputs": [
        {
          "output_type": "execute_result",
          "data": {
            "text/plain": [
              "diabetes\n",
              "1    0.5\n",
              "0    0.5\n",
              "Name: proportion, dtype: float64"
            ],
            "text/html": [
              "<div>\n",
              "<style scoped>\n",
              "    .dataframe tbody tr th:only-of-type {\n",
              "        vertical-align: middle;\n",
              "    }\n",
              "\n",
              "    .dataframe tbody tr th {\n",
              "        vertical-align: top;\n",
              "    }\n",
              "\n",
              "    .dataframe thead th {\n",
              "        text-align: right;\n",
              "    }\n",
              "</style>\n",
              "<table border=\"1\" class=\"dataframe\">\n",
              "  <thead>\n",
              "    <tr style=\"text-align: right;\">\n",
              "      <th></th>\n",
              "      <th>proportion</th>\n",
              "    </tr>\n",
              "    <tr>\n",
              "      <th>diabetes</th>\n",
              "      <th></th>\n",
              "    </tr>\n",
              "  </thead>\n",
              "  <tbody>\n",
              "    <tr>\n",
              "      <th>1</th>\n",
              "      <td>0.5</td>\n",
              "    </tr>\n",
              "    <tr>\n",
              "      <th>0</th>\n",
              "      <td>0.5</td>\n",
              "    </tr>\n",
              "  </tbody>\n",
              "</table>\n",
              "</div><br><label><b>dtype:</b> float64</label>"
            ]
          },
          "metadata": {},
          "execution_count": 181
        }
      ]
    },
    {
      "cell_type": "code",
      "source": [
        "print(f'Quantidade de registros: Original = {len(y)}, Oversample = {len(y_bal)}')"
      ],
      "metadata": {
        "colab": {
          "base_uri": "https://localhost:8080/"
        },
        "id": "ibHC1JEMbYJs",
        "outputId": "edf2b7d1-86e9-4a8f-bbb2-789a70fea807"
      },
      "execution_count": 182,
      "outputs": [
        {
          "output_type": "stream",
          "name": "stdout",
          "text": [
            "Quantidade de registros: Original = 374, Oversample = 502\n"
          ]
        }
      ]
    },
    {
      "cell_type": "code",
      "source": [
        "modelo_tree = DecisionTreeClassifier(max_depth = 5)\n",
        "skf = StratifiedKFold(n_splits=5, shuffle=True, random_state=5 )\n",
        "cv_resultados = cross_validate(modelo_tree, x_bal, y_bal, cv=skf, scoring = ('accuracy', 'recall','precision', 'f1', 'roc_auc'))\n",
        "intervalo_conf(cv_resultados,['test_accuracy', 'test_recall','test_precision', 'test_roc_auc','test_f1' ])"
      ],
      "metadata": {
        "colab": {
          "base_uri": "https://localhost:8080/"
        },
        "id": "lrRI4uoUByhZ",
        "outputId": "69402b11-3e0c-41df-940a-550aa1bef5bb"
      },
      "execution_count": 183,
      "outputs": [
        {
          "output_type": "execute_result",
          "data": {
            "text/plain": [
              "{'test_accuracy': '[ 0.676475, 0.761624 ]',\n",
              " 'test_recall': '[ 0.732512, 0.861057 ]',\n",
              " 'test_precision': '[ 0.645907, 0.734297 ]',\n",
              " 'test_roc_auc': '[ 0.667718, 0.807215 ]',\n",
              " 'test_f1': '[ 0.698991, 0.779420 ]'}"
            ]
          },
          "metadata": {},
          "execution_count": 183
        }
      ]
    },
    {
      "cell_type": "markdown",
      "source": [
        "### Desafio 2\n",
        "\n",
        "Utilize um [`pipeline`](https://imbalanced-learn.org/stable/references/generated/imblearn.pipeline.Pipeline.html) contendo ajuste do modelo e o balanceamento dos dados usando o oversampling com [`SMOTE`](https://imbalanced-learn.org/stable/references/generated/imblearn.over_sampling.SMOTE.html), obtendo a média do F1-Score de uma validação cruzada com `StratifiedKFold`."
      ],
      "metadata": {
        "id": "OMJ-IW4NJr4M"
      }
    },
    {
      "cell_type": "code",
      "source": [
        "modelo_tree = DecisionTreeClassifier(max_depth = 10)\n",
        "\n",
        "pipeline = Pipeline(steps=[('Oversample', SMOTE()),\n",
        "                          ('tree', modelo_tree)])\n",
        "skf = StratifiedKFold(n_splits=5, shuffle=True, random_state=5 )\n",
        "cv_resultados = cross_validate(pipeline, x, y, cv=skf, scoring = ('accuracy', 'recall','precision', 'f1', 'roc_auc'))\n",
        "intervalo_conf(cv_resultados,['test_accuracy', 'test_recall','test_precision', 'test_roc_auc','test_f1' ])"
      ],
      "metadata": {
        "id": "MXJSDAQUT3up",
        "colab": {
          "base_uri": "https://localhost:8080/"
        },
        "outputId": "09e46a7a-a8a7-4843-f2fc-5c490f45b671"
      },
      "execution_count": 184,
      "outputs": [
        {
          "output_type": "execute_result",
          "data": {
            "text/plain": [
              "{'test_accuracy': '[ 0.606338, 0.725121 ]',\n",
              " 'test_recall': '[ 0.430393, 0.674273 ]',\n",
              " 'test_precision': '[ 0.419213, 0.566076 ]',\n",
              " 'test_roc_auc': '[ 0.551570, 0.719397 ]',\n",
              " 'test_f1': '[ 0.430479, 0.609581 ]'}"
            ]
          },
          "metadata": {},
          "execution_count": 184
        }
      ]
    },
    {
      "cell_type": "code",
      "source": [
        "modelo_rf = RandomForestClassifier(max_depth = 10)\n",
        "\n",
        "pipeline = Pipeline(steps=[('Oversample', SMOTE()),\n",
        "                          ('tree', modelo_rf)])\n",
        "skf = StratifiedKFold(n_splits=5, shuffle=True, random_state=5 )\n",
        "cv_resultados = cross_validate(pipeline, x, y, cv=skf, scoring = ('accuracy', 'recall','precision', 'f1', 'roc_auc'))\n",
        "intervalo_conf(cv_resultados,['test_accuracy', 'test_recall','test_precision', 'test_roc_auc','test_f1' ])"
      ],
      "metadata": {
        "colab": {
          "base_uri": "https://localhost:8080/"
        },
        "id": "sATZdAGkZRv4",
        "outputId": "bf3f245a-11a1-4857-9bec-5c8ca943646a"
      },
      "execution_count": 185,
      "outputs": [
        {
          "output_type": "execute_result",
          "data": {
            "text/plain": [
              "{'test_accuracy': '[ 0.603220, 0.776456 ]',\n",
              " 'test_recall': '[ 0.478381, 0.725619 ]',\n",
              " 'test_precision': '[ 0.399351, 0.668053 ]',\n",
              " 'test_roc_auc': '[ 0.715802, 0.785155 ]',\n",
              " 'test_f1': '[ 0.482259, 0.641266 ]'}"
            ]
          },
          "metadata": {},
          "execution_count": 185
        }
      ]
    },
    {
      "cell_type": "markdown",
      "source": [
        "### Desafio 3\n",
        "\n",
        " Utilize um [`pipeline`](https://imbalanced-learn.org/stable/references/generated/imblearn.pipeline.Pipeline.html) contendo ajuste do modelo e o balanceamento dos dados usando o undersampling com [`Nearmiss`](https://imbalanced-learn.org/stable/references/generated/imblearn.over_sampling.SMOTE.html) na sua versão 3, obtendo a média do F1-Score de uma validação cruzada com `StratifiedKFold`."
      ],
      "metadata": {
        "id": "rSKJ6r9gJuq0"
      }
    },
    {
      "cell_type": "code",
      "source": [
        "modelo_tree = DecisionTreeClassifier(max_depth = 10)\n",
        "\n",
        "pipeline = Pipeline(steps=[('Undersample', NearMiss(version=3)),\n",
        "                          ('tree', modelo_tree)])\n",
        "skf = StratifiedKFold(n_splits=5, shuffle=True, random_state=5 )\n",
        "cv_resultados = cross_validate(pipeline, x, y, cv=skf, scoring = ('accuracy', 'recall','precision', 'f1', 'roc_auc'))\n",
        "intervalo_conf(cv_resultados,['test_accuracy', 'test_recall','test_precision', 'test_roc_auc','test_f1' ])"
      ],
      "metadata": {
        "id": "FA2DCsQbT5Go",
        "colab": {
          "base_uri": "https://localhost:8080/"
        },
        "outputId": "6bc80f08-dbc6-4ab3-ed10-8b51c1983a97"
      },
      "execution_count": 186,
      "outputs": [
        {
          "output_type": "execute_result",
          "data": {
            "text/plain": [
              "{'test_accuracy': '[ 0.494678, 0.633754 ]',\n",
              " 'test_recall': '[ 0.380382, 0.694285 ]',\n",
              " 'test_precision': '[ 0.322146, 0.444453 ]',\n",
              " 'test_roc_auc': '[ 0.482076, 0.648890 ]',\n",
              " 'test_f1': '[ 0.353489, 0.538856 ]'}"
            ]
          },
          "metadata": {},
          "execution_count": 186
        }
      ]
    },
    {
      "cell_type": "code",
      "source": [
        "modelo_rf = RandomForestClassifier(max_depth = 10)\n",
        "\n",
        "pipeline = Pipeline(steps=[('Undersample', NearMiss(version=3)),\n",
        "                          ('RF', modelo_rf)])\n",
        "skf = StratifiedKFold(n_splits=5, shuffle=True, random_state=5 )\n",
        "cv_resultados = cross_validate(pipeline, x, y, cv=skf, scoring = ('accuracy', 'recall','precision', 'f1', 'roc_auc'))\n",
        "intervalo_conf(cv_resultados,['test_accuracy', 'test_recall','test_precision', 'test_roc_auc','test_f1' ])"
      ],
      "metadata": {
        "colab": {
          "base_uri": "https://localhost:8080/"
        },
        "id": "mR40I1miZIUn",
        "outputId": "e51a9c9b-4c6f-4434-bdd6-85b21145523f"
      },
      "execution_count": 187,
      "outputs": [
        {
          "output_type": "execute_result",
          "data": {
            "text/plain": [
              "{'test_accuracy': '[ 0.517967, 0.840736 ]',\n",
              " 'test_recall': '[ 0.554906, 0.714427 ]',\n",
              " 'test_precision': '[ 0.323191, 0.732033 ]',\n",
              " 'test_roc_auc': '[ 0.579192, 0.820543 ]',\n",
              " 'test_f1': '[ 0.435106, 0.708657 ]'}"
            ]
          },
          "metadata": {},
          "execution_count": 187
        }
      ]
    },
    {
      "cell_type": "markdown",
      "source": [
        "### Desafio 4\n",
        "\n",
        "Escolha o modelo que obteve o melhor desempenho ao comparar as estratégias de oversampling e undersampling e realize o teste do modelo nos dados de teste que foram separados no início dos desafios."
      ],
      "metadata": {
        "id": "6ZpXGQyPJwNl"
      }
    },
    {
      "cell_type": "code",
      "source": [
        "x = dados.drop(col_alvo, axis=1)\n",
        "y = dados[col_alvo]\n",
        "x, x_test, y, y_test = train_test_split(x, y, test_size=0.05, stratify=y, random_state=5)\n",
        "x_train, x_val, y_train, y_val = train_test_split(x, y, test_size=0.25, stratify=y, random_state=5)"
      ],
      "metadata": {
        "id": "72gSP4O92VM1"
      },
      "execution_count": 194,
      "outputs": []
    },
    {
      "cell_type": "code",
      "source": [
        "undersample = NearMiss(version=3)\n",
        "x_bal, y_bal = undersample.fit_resample(x,y)\n",
        "\n",
        "modelo_tree = DecisionTreeClassifier(max_depth = 10)\n",
        "\n",
        "modelo_tree.fit(x_bal, y_bal)\n",
        "y_previsto = modelo_tree.predict(x_test)\n",
        "\n",
        "print(classification_report(y_test, y_previsto))\n",
        "\n",
        "ConfusionMatrixDisplay.from_predictions(y_test, y_previsto);"
      ],
      "metadata": {
        "colab": {
          "base_uri": "https://localhost:8080/",
          "height": 616
        },
        "outputId": "89ba4383-99c7-4131-819e-a119370d9cb6",
        "id": "fzYpJ9dQbhH2"
      },
      "execution_count": 199,
      "outputs": [
        {
          "output_type": "stream",
          "name": "stdout",
          "text": [
            "              precision    recall  f1-score   support\n",
            "\n",
            "           0       0.56      0.38      0.45        13\n",
            "           1       0.27      0.43      0.33         7\n",
            "\n",
            "    accuracy                           0.40        20\n",
            "   macro avg       0.41      0.41      0.39        20\n",
            "weighted avg       0.46      0.40      0.41        20\n",
            "\n"
          ]
        },
        {
          "output_type": "display_data",
          "data": {
            "text/plain": [
              "<Figure size 640x480 with 2 Axes>"
            ],
            "image/png": "[encoded data removed]"
          },
          "metadata": {}
        }
      ]
    },
    {
      "cell_type": "code",
      "source": [
        "print(f'Quantidade de registros: Original = {len(y)}, Oversample = {len(y_bal)}')"
      ],
      "metadata": {
        "colab": {
          "base_uri": "https://localhost:8080/"
        },
        "id": "XvMT81xF2gf2",
        "outputId": "65e6ac0b-5ed3-45bf-b795-5abb41a66982"
      },
      "execution_count": 198,
      "outputs": [
        {
          "output_type": "stream",
          "name": "stdout",
          "text": [
            "Quantidade de registros: Original = 374, Oversample = 227\n"
          ]
        }
      ]
    },
    {
      "cell_type": "code",
      "source": [
        "undersample = NearMiss(version=3)\n",
        "x_bal, y_bal = undersample.fit_resample(x,y)\n",
        "\n",
        "modelo_rf = RandomForestClassifier(max_depth = 10)\n",
        "\n",
        "modelo_rf.fit(x_bal, y_bal)\n",
        "y_previsto = modelo_rf.predict(x_test)\n",
        "\n",
        "print(classification_report(y_test, y_previsto))\n",
        "\n",
        "ConfusionMatrixDisplay.from_predictions(y_test, y_previsto);"
      ],
      "metadata": {
        "id": "x7N_pyEuT6dh",
        "colab": {
          "base_uri": "https://localhost:8080/",
          "height": 616
        },
        "outputId": "7cfaedaa-406a-4c4d-e449-0734eefab404"
      },
      "execution_count": 196,
      "outputs": [
        {
          "output_type": "stream",
          "name": "stdout",
          "text": [
            "              precision    recall  f1-score   support\n",
            "\n",
            "           0       0.69      0.69      0.69        13\n",
            "           1       0.43      0.43      0.43         7\n",
            "\n",
            "    accuracy                           0.60        20\n",
            "   macro avg       0.56      0.56      0.56        20\n",
            "weighted avg       0.60      0.60      0.60        20\n",
            "\n"
          ]
        },
        {
          "output_type": "display_data",
          "data": {
            "text/plain": [
              "<Figure size 640x480 with 2 Axes>"
            ],
            "image/png": "[encoded data removed]"
          },
          "metadata": {}
        }
      ]
    },
    {
      "cell_type": "code",
      "source": [
        "sample = SMOTEENN(random_state=123)\n",
        "x_bal, y_bal = sample.fit_resample(x,y)\n",
        "\n",
        "modelo_tree = DecisionTreeClassifier(max_depth = 10)\n",
        "\n",
        "modelo_tree.fit(x_bal, y_bal)\n",
        "y_previsto_tree = modelo_tree.predict(x_test)\n",
        "\n",
        "print(classification_report(y_test, y_previsto_tree))\n",
        "\n",
        "ConfusionMatrixDisplay.from_predictions(y_test, y_previsto_tree);"
      ],
      "metadata": {
        "colab": {
          "base_uri": "https://localhost:8080/",
          "height": 616
        },
        "id": "3GrM6Hg_bG5z",
        "outputId": "ed8db99c-ed67-4d46-f43a-4bfa1c6ef8bb"
      },
      "execution_count": 197,
      "outputs": [
        {
          "output_type": "stream",
          "name": "stdout",
          "text": [
            "              precision    recall  f1-score   support\n",
            "\n",
            "           0       0.82      0.69      0.75        13\n",
            "           1       0.56      0.71      0.62         7\n",
            "\n",
            "    accuracy                           0.70        20\n",
            "   macro avg       0.69      0.70      0.69        20\n",
            "weighted avg       0.73      0.70      0.71        20\n",
            "\n"
          ]
        },
        {
          "output_type": "display_data",
          "data": {
            "text/plain": [
              "<Figure size 640x480 with 2 Axes>"
            ],
            "image/png": "[encoded data removed]"
          },
          "metadata": {}
        }
      ]
    },
    {
      "cell_type": "code",
      "source": [],
      "metadata": {
        "id": "S-hFYRjOe2BY"
      },
      "execution_count": 190,
      "outputs": []
    },
    {
      "cell_type": "code",
      "source": [
        "undersample = NearMiss(version=3)\n",
        "x_bal, y_bal = undersample.fit_resample(x,y)\n",
        "\n",
        "modelo_rf = RandomForestClassifier(max_depth = 3)\n",
        "\n",
        "modelo_rf.fit(x_bal, y_bal)\n",
        "y_previsto_rf = modelo_rf.predict(x_test)\n",
        "\n",
        "print(classification_report(y_test, y_previsto_rf))\n",
        "\n",
        "ConfusionMatrixDisplay.from_predictions(y_test, y_previsto_rf);"
      ],
      "metadata": {
        "colab": {
          "base_uri": "https://localhost:8080/",
          "height": 616
        },
        "outputId": "6de2f9a1-c8fb-4a5f-fcbd-b49840789f51",
        "id": "UqDSWMYNe2Zc"
      },
      "execution_count": 191,
      "outputs": [
        {
          "output_type": "stream",
          "name": "stdout",
          "text": [
            "              precision    recall  f1-score   support\n",
            "\n",
            "           0       0.80      0.62      0.70        13\n",
            "           1       0.50      0.71      0.59         7\n",
            "\n",
            "    accuracy                           0.65        20\n",
            "   macro avg       0.65      0.66      0.64        20\n",
            "weighted avg       0.70      0.65      0.66        20\n",
            "\n"
          ]
        },
        {
          "output_type": "display_data",
          "data": {
            "text/plain": [
              "<Figure size 640x480 with 2 Axes>"
            ],
            "image/png": "[encoded data removed]"
          },
          "metadata": {}
        }
      ]
    },
    {
      "cell_type": "code",
      "source": [
        "undersample = NearMiss(version=3)\n",
        "x_bal, y_bal = undersample.fit_resample(x,y)\n",
        "\n",
        "modelo_rf = RandomForestClassifier(max_depth = 10)\n",
        "\n",
        "modelo_rf.fit(x_bal, y_bal)\n",
        "y_previsto_rf = modelo_rf.predict(x_test)\n",
        "\n",
        "print(classification_report(y_test, y_previsto))\n",
        "\n",
        "ConfusionMatrixDisplay.from_predictions(y_test, y_previsto);"
      ],
      "metadata": {
        "id": "Clf6a6QFeh4_",
        "colab": {
          "base_uri": "https://localhost:8080/",
          "height": 616
        },
        "outputId": "45693a4b-e138-4e53-fd02-9e78f463c3b5"
      },
      "execution_count": 200,
      "outputs": [
        {
          "output_type": "stream",
          "name": "stdout",
          "text": [
            "              precision    recall  f1-score   support\n",
            "\n",
            "           0       0.56      0.38      0.45        13\n",
            "           1       0.27      0.43      0.33         7\n",
            "\n",
            "    accuracy                           0.40        20\n",
            "   macro avg       0.41      0.41      0.39        20\n",
            "weighted avg       0.46      0.40      0.41        20\n",
            "\n"
          ]
        },
        {
          "output_type": "display_data",
          "data": {
            "text/plain": [
              "<Figure size 640x480 with 2 Axes>"
            ],
            "image/png": "[encoded data removed]"
          },
          "metadata": {}
        }
      ]
    },
    {
      "cell_type": "code",
      "source": [
        "fig, ax = plt.subplots()\n",
        "RocCurveDisplay.from_predictions(y_test, y_previsto_tree, name = 'Árvore de Decisão', ax=ax)\n",
        "RocCurveDisplay.from_predictions(y_test, y_previsto_rf, name = 'Random Forest', ax=ax)\n",
        "plt.show()\n"
      ],
      "metadata": {
        "colab": {
          "base_uri": "https://localhost:8080/",
          "height": 451
        },
        "id": "vTN2lyhweC8E",
        "outputId": "f5128b7d-6f93-4cf5-de19-fd3c57b1c6f1"
      },
      "execution_count": 201,
      "outputs": [
        {
          "output_type": "display_data",
          "data": {
            "text/plain": [
              "<Figure size 640x480 with 1 Axes>"
            ],
            "image/png": "[encoded data removed]"
          },
          "metadata": {}
        }
      ]
    },
    {
      "cell_type": "code",
      "source": [
        "\n",
        "fig, ax = plt.subplots()\n",
        "PrecisionRecallDisplay.from_predictions(y_test, y_previsto_tree, name = 'Árvore de Decisão', ax=ax)\n",
        "PrecisionRecallDisplay.from_predictions(y_test, y_previsto_rf, name = 'Random Forest', ax=ax)\n",
        "plt.legend(loc = 'upper right')\n",
        "plt.show()"
      ],
      "metadata": {
        "colab": {
          "base_uri": "https://localhost:8080/",
          "height": 451
        },
        "id": "DMk4_HnTePpW",
        "outputId": "cf5753b0-89f0-4552-fe2d-daf1fdd7d98f"
      },
      "execution_count": 202,
      "outputs": [
        {
          "output_type": "display_data",
          "data": {
            "text/plain": [
              "<Figure size 640x480 with 1 Axes>"
            ],
            "image/png": "[encoded data removed]"
          },
          "metadata": {}
        }
      ]
    }
  ]
}